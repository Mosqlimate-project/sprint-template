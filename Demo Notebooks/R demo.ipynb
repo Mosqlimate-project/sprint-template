{
 "cells": [
  {
   "cell_type": "markdown",
   "id": "2d8c1699-1dc7-4c3d-94af-c021eef8a6ee",
   "metadata": {},
   "source": [
    "# Creating a simple forecasting model"
   ]
  },
  {
   "cell_type": "code",
   "execution_count": 1,
   "id": "2ad0f452-3e6f-4002-8ad9-73d5a6e02e06",
   "metadata": {
    "execution": {
     "iopub.execute_input": "2024-06-13T20:22:42.117778Z",
     "iopub.status.busy": "2024-06-13T20:22:42.116787Z",
     "iopub.status.idle": "2024-06-13T20:22:42.570865Z",
     "shell.execute_reply": "2024-06-13T20:22:42.570243Z"
    }
   },
   "outputs": [],
   "source": [
    "library(reticulate)"
   ]
  },
  {
   "cell_type": "markdown",
   "id": "527e0394-6407-4a74-9393-3d265a92bd0e",
   "metadata": {},
   "source": [
    "## Installing Mosqlient"
   ]
  },
  {
   "cell_type": "code",
   "execution_count": 2,
   "id": "b7e9569c-7f8a-4fe8-bf5e-57d8d6528704",
   "metadata": {
    "execution": {
     "iopub.execute_input": "2024-06-13T20:24:54.545907Z",
     "iopub.status.busy": "2024-06-13T20:24:54.529524Z",
     "iopub.status.idle": "2024-06-13T20:24:58.069987Z",
     "shell.execute_reply": "2024-06-13T20:24:58.069290Z"
    }
   },
   "outputs": [
    {
     "name": "stdout",
     "output_type": "stream",
     "text": [
      "Using virtual environment '/home/fccoelho/Documentos/Projects_Software/sprint-template/.venv' ...\n"
     ]
    },
    {
     "name": "stderr",
     "output_type": "stream",
     "text": [
      "+ /home/fccoelho/Documentos/Projects_Software/sprint-template/.venv/bin/python -m pip install --upgrade --no-user 'git+https://github.com/Mosqlimate-project/mosqlimate-client.git'\n",
      "\n"
     ]
    }
   ],
   "source": [
    "py_install(\"git+https://github.com/Mosqlimate-project/mosqlimate-client.git\")"
   ]
  },
  {
   "cell_type": "code",
   "execution_count": 3,
   "id": "459ad639-b349-4aba-936b-c842cf576766",
   "metadata": {
    "execution": {
     "iopub.execute_input": "2024-06-13T20:25:43.148409Z",
     "iopub.status.busy": "2024-06-13T20:25:43.147465Z",
     "iopub.status.idle": "2024-06-13T20:25:43.626830Z",
     "shell.execute_reply": "2024-06-13T20:25:43.626120Z"
    }
   },
   "outputs": [],
   "source": [
    "mosq <- import(\"mosqlient\")"
   ]
  },
  {
   "cell_type": "code",
   "execution_count": 4,
   "id": "49793739-dff6-4e4e-8bf7-933ab4c768c7",
   "metadata": {
    "execution": {
     "iopub.execute_input": "2024-06-13T20:25:51.163834Z",
     "iopub.status.busy": "2024-06-13T20:25:51.163212Z",
     "iopub.status.idle": "2024-06-13T20:25:51.170117Z",
     "shell.execute_reply": "2024-06-13T20:25:51.169533Z"
    }
   },
   "outputs": [
    {
     "data": {
      "text/html": [
       "'1.2.0'"
      ],
      "text/latex": [
       "'1.2.0'"
      ],
      "text/markdown": [
       "'1.2.0'"
      ],
      "text/plain": [
       "[1] \"1.2.0\""
      ]
     },
     "metadata": {},
     "output_type": "display_data"
    }
   ],
   "source": [
    "mosq$version"
   ]
  },
  {
   "cell_type": "code",
   "execution_count": null,
   "id": "96abfb38-1859-40e1-9631-1c852ae57663",
   "metadata": {},
   "outputs": [],
   "source": []
  }
 ],
 "metadata": {
  "kernelspec": {
   "display_name": "R",
   "language": "R",
   "name": "ir"
  },
  "language_info": {
   "codemirror_mode": "r",
   "file_extension": ".r",
   "mimetype": "text/x-r-source",
   "name": "R",
   "pygments_lexer": "r",
   "version": "4.3.3"
  }
 },
 "nbformat": 4,
 "nbformat_minor": 5
}
