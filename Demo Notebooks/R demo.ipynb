{
 "cells": [
  {
   "cell_type": "markdown",
   "id": "2d8c1699-1dc7-4c3d-94af-c021eef8a6ee",
   "metadata": {},
   "source": [
    "# Creating a simple forecasting model\n",
    "Before we can use mosqlient, we need to install the reticulate library in R. If you already have it installed, you can skip the cell below."
   ]
  },
  {
   "cell_type": "code",
   "execution_count": 1,
   "id": "2ad0f452-3e6f-4002-8ad9-73d5a6e02e06",
   "metadata": {
    "execution": {
     "iopub.execute_input": "2024-06-18T19:19:32.363816Z",
     "iopub.status.busy": "2024-06-18T19:19:32.362795Z",
     "iopub.status.idle": "2024-06-18T19:20:32.040833Z",
     "shell.execute_reply": "2024-06-18T19:20:32.040235Z"
    },
    "vscode": {
     "languageId": "r"
    }
   },
   "outputs": [
    {
     "name": "stderr",
     "output_type": "stream",
     "text": [
      "Installing package into ‘/home/fccoelho/R/x86_64-pc-linux-gnu-library/4.3’\n",
      "(as ‘lib’ is unspecified)\n",
      "\n",
      "\u001b[33m!\u001b[39m Using bundled GitHub PAT. Please add your own PAT using `gitcreds::gitcreds_set()`.\n",
      "\n",
      "\n",
      "\u001b[32m✔\u001b[39m Updated metadata database: 1.38 MB in 1 file.\n",
      "\n",
      "\n",
      "\u001b[36mℹ\u001b[39m Updating metadata database\n",
      "\u001b[32m✔\u001b[39m Updating metadata database ... done\n",
      "\n",
      "\n",
      " \n",
      "\n",
      "→ Will \u001b[3m\u001b[3mupdate\u001b[3m\u001b[23m 1 package.\n",
      "\n",
      "→ The package (0 B) is cached.\n",
      "\n",
      "\u001b[90m+ \u001b[39m\u001b[34mreticulate\u001b[39m 1.37.0.9000 → 1.37.0.\u001b[1m9001\u001b[22m [bld][cmp] (GitHub: a7da5ce)\u001b[90m + \u001b[39m\u001b[36m\u001b[32m✔\u001b[36m python3\u001b[39m\n",
      "\n",
      "\u001b[32m✔\u001b[39m All system requirements are already installed.\n",
      "\n",
      "  \n",
      "\n",
      "\u001b[36mℹ\u001b[39m No downloads are needed, 1 pkg is cached\n",
      "\n",
      "\u001b[32m✔\u001b[39m Got \u001b[34m\u001b[34mreticulate\u001b[34m\u001b[39m 1.37.0.9001 (source) (2.02 MB)\n",
      "\n",
      "\u001b[36mℹ\u001b[39m Packaging \u001b[34m\u001b[34mreticulate\u001b[34m\u001b[39m 1.37.0.9001\n",
      "\n",
      "\u001b[32m✔\u001b[39m Packaged \u001b[34m\u001b[34mreticulate\u001b[34m\u001b[39m 1.37.0.9001 \u001b[90m\u001b[90m(454ms)\u001b[90m\u001b[39m\n",
      "\n",
      "\u001b[36mℹ\u001b[39m Building \u001b[34m\u001b[34mreticulate\u001b[34m\u001b[39m 1.37.0.9001\n",
      "\n",
      "\u001b[32m✔\u001b[39m Built \u001b[34m\u001b[34mreticulate\u001b[34m\u001b[39m 1.37.0.9001 \u001b[90m\u001b[90m(11.2s)\u001b[90m\u001b[39m\n",
      "\n",
      "\u001b[32m✔\u001b[39m Installed \u001b[34m\u001b[34mreticulate\u001b[34m\u001b[39m 1.37.0.9001 (github::rstudio/reticulate@a7da5ce) \u001b[90m\u001b[90m(34ms)\u001b[90m\u001b[39m\n",
      "\n",
      "\u001b[32m✔\u001b[39m 1 pkg + 11 deps: kept 9, upd 1, dld 1 (NA B) \u001b[90m\u001b[90m[18.2s]\u001b[90m\u001b[39m\n",
      "\n"
     ]
    }
   ],
   "source": [
    "install.packages('pak')\n",
    "library(pak)\n",
    "pak::pak(\"rstudio/reticulate\")"
   ]
  },
  {
   "cell_type": "code",
   "execution_count": 1,
   "id": "124806c7-1023-4ee7-8acf-7207c555f6bf",
   "metadata": {
    "execution": {
     "iopub.execute_input": "2024-06-24T18:04:43.099798Z",
     "iopub.status.busy": "2024-06-24T18:04:43.098790Z",
     "iopub.status.idle": "2024-06-24T18:04:43.536572Z",
     "shell.execute_reply": "2024-06-24T18:04:43.535957Z"
    },
    "vscode": {
     "languageId": "r"
    }
   },
   "outputs": [],
   "source": [
    "library(reticulate)"
   ]
  },
  {
   "cell_type": "markdown",
   "id": "527e0394-6407-4a74-9393-3d265a92bd0e",
   "metadata": {},
   "source": [
    "## Installing Mosqlient"
   ]
  },
  {
   "cell_type": "code",
   "execution_count": 2,
   "id": "b7e9569c-7f8a-4fe8-bf5e-57d8d6528704",
   "metadata": {
    "execution": {
     "iopub.execute_input": "2024-06-24T18:04:45.337792Z",
     "iopub.status.busy": "2024-06-24T18:04:45.322034Z",
     "iopub.status.idle": "2024-06-24T18:04:46.368096Z",
     "shell.execute_reply": "2024-06-24T18:04:46.367331Z"
    },
    "vscode": {
     "languageId": "r"
    }
   },
   "outputs": [
    {
     "name": "stdout",
     "output_type": "stream",
     "text": [
      "Using virtual environment 'r-reticulate' ...\n"
     ]
    },
    {
     "name": "stderr",
     "output_type": "stream",
     "text": [
      "+ /home/fccoelho/.virtualenvs/r-reticulate/bin/python -m pip install --upgrade --no-user 'mosqlient>=1.2.2'\n",
      "\n"
     ]
    }
   ],
   "source": [
    "py_install(\"mosqlient>=1.2.2\", envname='r-reticulate')"
   ]
  },
  {
   "cell_type": "code",
   "execution_count": 3,
   "id": "459ad639-b349-4aba-936b-c842cf576766",
   "metadata": {
    "execution": {
     "iopub.execute_input": "2024-06-24T18:04:49.066141Z",
     "iopub.status.busy": "2024-06-24T18:04:49.065538Z",
     "iopub.status.idle": "2024-06-24T18:04:49.706035Z",
     "shell.execute_reply": "2024-06-24T18:04:49.705319Z"
    },
    "vscode": {
     "languageId": "r"
    }
   },
   "outputs": [],
   "source": [
    "mosq <- import(\"mosqlient\")"
   ]
  },
  {
   "cell_type": "code",
   "execution_count": 4,
   "id": "49793739-dff6-4e4e-8bf7-933ab4c768c7",
   "metadata": {
    "execution": {
     "iopub.execute_input": "2024-06-24T18:04:50.812958Z",
     "iopub.status.busy": "2024-06-24T18:04:50.812339Z",
     "iopub.status.idle": "2024-06-24T18:04:50.819656Z",
     "shell.execute_reply": "2024-06-24T18:04:50.818904Z"
    },
    "vscode": {
     "languageId": "r"
    }
   },
   "outputs": [
    {
     "data": {
      "text/html": [
       "'1.2.1'"
      ],
      "text/latex": [
       "'1.2.1'"
      ],
      "text/markdown": [
       "'1.2.1'"
      ],
      "text/plain": [
       "[1] \"1.2.1\""
      ]
     },
     "metadata": {},
     "output_type": "display_data"
    }
   ],
   "source": [
    "mosq$version"
   ]
  },
  {
   "cell_type": "markdown",
   "id": "f99cf40b-d1c9-435a-a5ec-27ebff0c4aa2",
   "metadata": {},
   "source": [
    "## Downloading the Dengue dataset\n",
    "Here we will build a simple univariate model using only dengue cases. We could use the Mosqlient library to fetch the data straight from the API, but instead we will download the prepared datasets made available by the sprint organizers. For this you can go to [info.dengue.mat.br/minio](https://info.dengue.mat.br/minio), and download the infodengue dataset. This dataset is a gzip compressed csv file called `dengue.csv.gv` and save it in the same directory as this notebook."
   ]
  },
  {
   "cell_type": "code",
   "execution_count": 5,
   "id": "f0d6f9b9-5cb3-4685-947b-52dd16c0896b",
   "metadata": {
    "execution": {
     "iopub.execute_input": "2024-06-24T18:04:53.193843Z",
     "iopub.status.busy": "2024-06-24T18:04:53.193146Z",
     "iopub.status.idle": "2024-06-24T18:04:53.232337Z",
     "shell.execute_reply": "2024-06-24T18:04:53.231535Z"
    },
    "vscode": {
     "languageId": "r"
    }
   },
   "outputs": [],
   "source": [
    "library(data.table)"
   ]
  },
  {
   "cell_type": "code",
   "execution_count": 8,
   "id": "ea088bcd-8020-45b5-ab2a-4409683c66bb",
   "metadata": {
    "execution": {
     "iopub.execute_input": "2024-06-24T18:08:10.032030Z",
     "iopub.status.busy": "2024-06-24T18:08:10.031134Z",
     "iopub.status.idle": "2024-06-24T18:08:11.199022Z",
     "shell.execute_reply": "2024-06-24T18:08:11.198455Z"
    },
    "vscode": {
     "languageId": "r"
    }
   },
   "outputs": [
    {
     "data": {
      "text/html": [
       "<table class=\"dataframe\">\n",
       "<caption>A data.table: 6 × 9</caption>\n",
       "<thead>\n",
       "\t<tr><th scope=col>year</th><th scope=col>epiweek</th><th scope=col>casos</th><th scope=col>geocode</th><th scope=col>regional</th><th scope=col>regional_geocode</th><th scope=col>macroregional</th><th scope=col>macroregional_geocode</th><th scope=col>uf</th></tr>\n",
       "\t<tr><th scope=col>&lt;int&gt;</th><th scope=col>&lt;int&gt;</th><th scope=col>&lt;int&gt;</th><th scope=col>&lt;int&gt;</th><th scope=col>&lt;chr&gt;</th><th scope=col>&lt;int&gt;</th><th scope=col>&lt;chr&gt;</th><th scope=col>&lt;int&gt;</th><th scope=col>&lt;chr&gt;</th></tr>\n",
       "</thead>\n",
       "<tbody>\n",
       "\t<tr><td>2024</td><td>202423</td><td>0</td><td>2907202</td><td>Juazeiro           </td><td>29016</td><td>Norte       </td><td>2913</td><td>BA</td></tr>\n",
       "\t<tr><td>2024</td><td>202423</td><td>0</td><td>2902401</td><td>Itabuna            </td><td>29012</td><td>Sul         </td><td>2910</td><td>BA</td></tr>\n",
       "\t<tr><td>2024</td><td>202423</td><td>0</td><td>2903409</td><td>Porto Seguro       </td><td>29018</td><td>Extremo Sul </td><td>2916</td><td>BA</td></tr>\n",
       "\t<tr><td>2024</td><td>202423</td><td>0</td><td>2904753</td><td>Ibotirama          </td><td>29008</td><td>Oeste       </td><td>2912</td><td>BA</td></tr>\n",
       "\t<tr><td>2024</td><td>202423</td><td>0</td><td>2906907</td><td>Teixeira de Freitas</td><td>29026</td><td>Extremo Sul </td><td>2916</td><td>BA</td></tr>\n",
       "\t<tr><td>2024</td><td>202423</td><td>0</td><td>2908903</td><td>Feira de Santana   </td><td>29006</td><td>Centro-Leste</td><td>2917</td><td>BA</td></tr>\n",
       "</tbody>\n",
       "</table>\n"
      ],
      "text/latex": [
       "A data.table: 6 × 9\n",
       "\\begin{tabular}{lllllllll}\n",
       " year & epiweek & casos & geocode & regional & regional\\_geocode & macroregional & macroregional\\_geocode & uf\\\\\n",
       " <int> & <int> & <int> & <int> & <chr> & <int> & <chr> & <int> & <chr>\\\\\n",
       "\\hline\n",
       "\t 2024 & 202423 & 0 & 2907202 & Juazeiro            & 29016 & Norte        & 2913 & BA\\\\\n",
       "\t 2024 & 202423 & 0 & 2902401 & Itabuna             & 29012 & Sul          & 2910 & BA\\\\\n",
       "\t 2024 & 202423 & 0 & 2903409 & Porto Seguro        & 29018 & Extremo Sul  & 2916 & BA\\\\\n",
       "\t 2024 & 202423 & 0 & 2904753 & Ibotirama           & 29008 & Oeste        & 2912 & BA\\\\\n",
       "\t 2024 & 202423 & 0 & 2906907 & Teixeira de Freitas & 29026 & Extremo Sul  & 2916 & BA\\\\\n",
       "\t 2024 & 202423 & 0 & 2908903 & Feira de Santana    & 29006 & Centro-Leste & 2917 & BA\\\\\n",
       "\\end{tabular}\n"
      ],
      "text/markdown": [
       "\n",
       "A data.table: 6 × 9\n",
       "\n",
       "| year &lt;int&gt; | epiweek &lt;int&gt; | casos &lt;int&gt; | geocode &lt;int&gt; | regional &lt;chr&gt; | regional_geocode &lt;int&gt; | macroregional &lt;chr&gt; | macroregional_geocode &lt;int&gt; | uf &lt;chr&gt; |\n",
       "|---|---|---|---|---|---|---|---|---|\n",
       "| 2024 | 202423 | 0 | 2907202 | Juazeiro            | 29016 | Norte        | 2913 | BA |\n",
       "| 2024 | 202423 | 0 | 2902401 | Itabuna             | 29012 | Sul          | 2910 | BA |\n",
       "| 2024 | 202423 | 0 | 2903409 | Porto Seguro        | 29018 | Extremo Sul  | 2916 | BA |\n",
       "| 2024 | 202423 | 0 | 2904753 | Ibotirama           | 29008 | Oeste        | 2912 | BA |\n",
       "| 2024 | 202423 | 0 | 2906907 | Teixeira de Freitas | 29026 | Extremo Sul  | 2916 | BA |\n",
       "| 2024 | 202423 | 0 | 2908903 | Feira de Santana    | 29006 | Centro-Leste | 2917 | BA |\n",
       "\n"
      ],
      "text/plain": [
       "  year epiweek casos geocode regional            regional_geocode macroregional\n",
       "1 2024 202423  0     2907202 Juazeiro            29016            Norte        \n",
       "2 2024 202423  0     2902401 Itabuna             29012            Sul          \n",
       "3 2024 202423  0     2903409 Porto Seguro        29018            Extremo Sul  \n",
       "4 2024 202423  0     2904753 Ibotirama           29008            Oeste        \n",
       "5 2024 202423  0     2906907 Teixeira de Freitas 29026            Extremo Sul  \n",
       "6 2024 202423  0     2908903 Feira de Santana    29006            Centro-Leste \n",
       "  macroregional_geocode uf\n",
       "1 2913                  BA\n",
       "2 2910                  BA\n",
       "3 2916                  BA\n",
       "4 2912                  BA\n",
       "5 2916                  BA\n",
       "6 2917                  BA"
      ]
     },
     "metadata": {},
     "output_type": "display_data"
    }
   ],
   "source": [
    "data = fread(\"dengue.csv.gz\")\n",
    "tail(data)"
   ]
  },
  {
   "cell_type": "code",
   "execution_count": null,
   "id": "88a6abc0-b9d3-49fe-929c-58c4df162314",
   "metadata": {},
   "outputs": [],
   "source": []
  },
  {
   "cell_type": "code",
   "execution_count": null,
   "id": "871fe976-7d55-4f10-8985-f872db8c55b1",
   "metadata": {},
   "outputs": [],
   "source": []
  },
  {
   "cell_type": "markdown",
   "id": "22a65b2d-e137-42cf-93e6-39831d6ac919",
   "metadata": {},
   "source": [
    "## Creating a simple Forecast model\n",
    "For this demonstration we will create an train an ARIMA model."
   ]
  },
  {
   "cell_type": "code",
   "execution_count": 14,
   "id": "ffb384ed-e8d1-4d35-8418-d3c17d56e9f2",
   "metadata": {
    "execution": {
     "iopub.execute_input": "2024-06-18T19:33:43.874752Z",
     "iopub.status.busy": "2024-06-18T19:33:43.874166Z",
     "iopub.status.idle": "2024-06-18T19:33:44.497654Z",
     "shell.execute_reply": "2024-06-18T19:33:44.496888Z"
    },
    "vscode": {
     "languageId": "r"
    }
   },
   "outputs": [
    {
     "name": "stderr",
     "output_type": "stream",
     "text": [
      "Registered S3 method overwritten by 'quantmod':\n",
      "  method            from\n",
      "  as.zoo.data.frame zoo \n",
      "\n",
      "── \u001b[1mAttaching core tidyverse packages\u001b[22m ───────────────────────────────────────────────────────────────────────────────────────────────────────────────────────────────────────────────────────────────────── tidyverse 2.0.0 ──\n",
      "\u001b[32m✔\u001b[39m \u001b[34mdplyr    \u001b[39m 1.1.4     \u001b[32m✔\u001b[39m \u001b[34mreadr    \u001b[39m 2.1.5\n",
      "\u001b[32m✔\u001b[39m \u001b[34mforcats  \u001b[39m 1.0.0     \u001b[32m✔\u001b[39m \u001b[34mstringr  \u001b[39m 1.5.1\n",
      "\u001b[32m✔\u001b[39m \u001b[34mggplot2  \u001b[39m 3.4.4     \u001b[32m✔\u001b[39m \u001b[34mtibble   \u001b[39m 3.2.1\n",
      "\u001b[32m✔\u001b[39m \u001b[34mlubridate\u001b[39m 1.9.3     \u001b[32m✔\u001b[39m \u001b[34mtidyr    \u001b[39m 1.3.1\n",
      "\u001b[32m✔\u001b[39m \u001b[34mpurrr    \u001b[39m 1.0.2     \n",
      "── \u001b[1mConflicts\u001b[22m ─────────────────────────────────────────────────────────────────────────────────────────────────────────────────────────────────────────────────────────────────────────────────────── tidyverse_conflicts() ──\n",
      "\u001b[31m✖\u001b[39m \u001b[34mdplyr\u001b[39m::\u001b[32mbetween()\u001b[39m     masks \u001b[34mdata.table\u001b[39m::between()\n",
      "\u001b[31m✖\u001b[39m \u001b[34mdplyr\u001b[39m::\u001b[32mfilter()\u001b[39m      masks \u001b[34mstats\u001b[39m::filter()\n",
      "\u001b[31m✖\u001b[39m \u001b[34mdplyr\u001b[39m::\u001b[32mfirst()\u001b[39m       masks \u001b[34mdata.table\u001b[39m::first()\n",
      "\u001b[31m✖\u001b[39m \u001b[34mlubridate\u001b[39m::\u001b[32mhour()\u001b[39m    masks \u001b[34mdata.table\u001b[39m::hour()\n",
      "\u001b[31m✖\u001b[39m \u001b[34mlubridate\u001b[39m::\u001b[32misoweek()\u001b[39m masks \u001b[34mdata.table\u001b[39m::isoweek()\n",
      "\u001b[31m✖\u001b[39m \u001b[34mdplyr\u001b[39m::\u001b[32mlag()\u001b[39m         masks \u001b[34mstats\u001b[39m::lag()\n",
      "\u001b[31m✖\u001b[39m \u001b[34mdplyr\u001b[39m::\u001b[32mlast()\u001b[39m        masks \u001b[34mdata.table\u001b[39m::last()\n",
      "\u001b[31m✖\u001b[39m \u001b[34mlubridate\u001b[39m::\u001b[32mmday()\u001b[39m    masks \u001b[34mdata.table\u001b[39m::mday()\n",
      "\u001b[31m✖\u001b[39m \u001b[34mlubridate\u001b[39m::\u001b[32mminute()\u001b[39m  masks \u001b[34mdata.table\u001b[39m::minute()\n",
      "\u001b[31m✖\u001b[39m \u001b[34mlubridate\u001b[39m::\u001b[32mmonth()\u001b[39m   masks \u001b[34mdata.table\u001b[39m::month()\n",
      "\u001b[31m✖\u001b[39m \u001b[34mlubridate\u001b[39m::\u001b[32mquarter()\u001b[39m masks \u001b[34mdata.table\u001b[39m::quarter()\n",
      "\u001b[31m✖\u001b[39m \u001b[34mlubridate\u001b[39m::\u001b[32msecond()\u001b[39m  masks \u001b[34mdata.table\u001b[39m::second()\n",
      "\u001b[31m✖\u001b[39m \u001b[34mpurrr\u001b[39m::\u001b[32mtranspose()\u001b[39m   masks \u001b[34mdata.table\u001b[39m::transpose()\n",
      "\u001b[31m✖\u001b[39m \u001b[34mlubridate\u001b[39m::\u001b[32mwday()\u001b[39m    masks \u001b[34mdata.table\u001b[39m::wday()\n",
      "\u001b[31m✖\u001b[39m \u001b[34mlubridate\u001b[39m::\u001b[32mweek()\u001b[39m    masks \u001b[34mdata.table\u001b[39m::week()\n",
      "\u001b[31m✖\u001b[39m \u001b[34mlubridate\u001b[39m::\u001b[32myday()\u001b[39m    masks \u001b[34mdata.table\u001b[39m::yday()\n",
      "\u001b[31m✖\u001b[39m \u001b[34mlubridate\u001b[39m::\u001b[32myear()\u001b[39m    masks \u001b[34mdata.table\u001b[39m::year()\n",
      "\u001b[36mℹ\u001b[39m Use the conflicted package (\u001b[3m\u001b[34m<http://conflicted.r-lib.org/>\u001b[39m\u001b[23m) to force all conflicts to become errors\n"
     ]
    }
   ],
   "source": [
    "library(forecast)\n",
    "library(tidyverse)"
   ]
  },
  {
   "cell_type": "markdown",
   "id": "9a42bbca-6a3c-4498-9046-82594f1906cc",
   "metadata": {},
   "source": [
    "Let's for the sake of this example let us fit the series for the state of Rio de Janeiro (UF=\"RJ\"). For this we need to aggregate the cases from all 92 municipalities of the state."
   ]
  },
  {
   "cell_type": "code",
   "execution_count": 33,
   "id": "2f8382b5-e4c3-43f4-b707-28e8b46529b4",
   "metadata": {
    "execution": {
     "iopub.execute_input": "2024-06-18T19:56:39.045228Z",
     "iopub.status.busy": "2024-06-18T19:56:39.044619Z",
     "iopub.status.idle": "2024-06-18T19:56:39.099284Z",
     "shell.execute_reply": "2024-06-18T19:56:39.098479Z"
    }
   },
   "outputs": [],
   "source": [
    "dtRJ <- data %>% filter(uf == \"RJ\") %>% group_by(SE) %>% summarize(casos=sum(casos)) %>% arrange(SE)"
   ]
  },
  {
   "cell_type": "code",
   "execution_count": 68,
   "id": "1e87666f-06a3-441d-b735-111ffca32965",
   "metadata": {
    "execution": {
     "iopub.execute_input": "2024-06-18T20:20:02.496667Z",
     "iopub.status.busy": "2024-06-18T20:20:02.495796Z",
     "iopub.status.idle": "2024-06-18T20:20:02.646167Z",
     "shell.execute_reply": "2024-06-18T20:20:02.645254Z"
    },
    "vscode": {
     "languageId": "r"
    }
   },
   "outputs": [
    {
     "data": {
      "image/png": "[encoded data removed]",
      "text/plain": [
       "plot without title"
      ]
     },
     "metadata": {
      "image/png": {
       "height": 420,
       "width": 420
      }
     },
     "output_type": "display_data"
    }
   ],
   "source": [
    "dts.all <- ts(dtRJ$casos, start = c(2010, 01), end = c(2024,23), frequency = 52)\n",
    "dts.train <- ts(dtRJ$casos[1:which(dtRJ$SE == 202240)], start = c(2010, 01), end = c(2022,40), frequency = 52)\n",
    "\n",
    "autoplot(dts.all, colour=\"blue\")+\n",
    "autolayer(dts.train)"
   ]
  },
  {
   "cell_type": "code",
   "execution_count": 9,
   "id": "143dff10-4f81-47bb-a97f-187d0d4d3a49",
   "metadata": {
    "execution": {
     "iopub.execute_input": "2024-06-24T18:12:06.647560Z",
     "iopub.status.busy": "2024-06-24T18:12:06.646900Z",
     "iopub.status.idle": "2024-06-24T18:12:06.712795Z",
     "shell.execute_reply": "2024-06-24T18:12:06.711667Z"
    }
   },
   "outputs": [
    {
     "data": {
      "text/html": [
       "\n",
       "<table style=\"width: 100%;\"><tr><td>ts {stats}</td><td style=\"text-align: right;\">R Documentation</td></tr></table>\n",
       "\n",
       "<h2 id='ts'>Time-Series Objects</h2>\n",
       "\n",
       "<h3>Description</h3>\n",
       "\n",
       "<p>The function <code>ts</code> is used to create time-series objects.\n",
       "</p>\n",
       "<p><code>as.ts</code> and <code>is.ts</code> coerce an object to a time-series and\n",
       "test whether an object is a time series.\n",
       "</p>\n",
       "\n",
       "\n",
       "<h3>Usage</h3>\n",
       "\n",
       "<pre><code class='language-R'>ts(data = NA, start = 1, end = numeric(), frequency = 1,\n",
       "   deltat = 1, ts.eps = getOption(\"ts.eps\"),\n",
       "   class = if(nseries &gt; 1) c(\"mts\", \"ts\", \"matrix\", \"array\") else \"ts\",\n",
       "   names = )\n",
       "as.ts(x, ...)\n",
       "is.ts(x)\n",
       "\n",
       "is.mts(x)\n",
       "</code></pre>\n",
       "\n",
       "\n",
       "<h3>Arguments</h3>\n",
       "\n",
       "<table>\n",
       "<tr><td><code id=\"ts_:_data\">data</code></td>\n",
       "<td>\n",
       "<p>a vector or matrix of the observed time-series\n",
       "values. A data frame will be coerced to a numeric matrix via\n",
       "<code>data.matrix</code>.  (See also &lsquo;Details&rsquo;.)</p>\n",
       "</td></tr>\n",
       "<tr><td><code id=\"ts_:_start\">start</code></td>\n",
       "<td>\n",
       "<p>the time of the first observation.  Either a single\n",
       "number or a vector of two numbers (the second of which is an integer),\n",
       "which specify a natural time\n",
       "unit and a (1-based) number of samples into the time unit.  See\n",
       "the examples for the use of the second form.</p>\n",
       "</td></tr>\n",
       "<tr><td><code id=\"ts_:_end\">end</code></td>\n",
       "<td>\n",
       "<p>the time of the last observation, specified in the same way\n",
       "as <code>start</code>.</p>\n",
       "</td></tr>\n",
       "<tr><td><code id=\"ts_:_frequency\">frequency</code></td>\n",
       "<td>\n",
       "<p>the number of observations per unit of time.</p>\n",
       "</td></tr>\n",
       "<tr><td><code id=\"ts_:_deltat\">deltat</code></td>\n",
       "<td>\n",
       "<p>the fraction of the sampling period between successive\n",
       "observations; e.g., 1/12 for monthly data.  Only one of\n",
       "<code>frequency</code> or <code>deltat</code> should be provided.</p>\n",
       "</td></tr>\n",
       "<tr><td><code id=\"ts_:_ts.eps\">ts.eps</code></td>\n",
       "<td>\n",
       "<p>time series comparison tolerance.  Frequencies are\n",
       "considered equal if their absolute difference is less than\n",
       "<code>ts.eps</code>.</p>\n",
       "</td></tr>\n",
       "<tr><td><code id=\"ts_:_class\">class</code></td>\n",
       "<td>\n",
       "<p>class to be given to the result, or none if <code>NULL</code>\n",
       "or <code>\"none\"</code>.  The default is <code>\"ts\"</code> for a single series, or\n",
       "<code>c(\"mts\", \"ts\", \"matrix\", \"array\")</code> for multiple series.</p>\n",
       "</td></tr>\n",
       "<tr><td><code id=\"ts_:_names\">names</code></td>\n",
       "<td>\n",
       "<p>a character vector of names for the series in a multiple\n",
       "series: defaults to the colnames of <code>data</code>, or <code>\"Series 1\"</code>,\n",
       "<code>\"Series 2\"</code>, ....</p>\n",
       "</td></tr>\n",
       "<tr><td><code id=\"ts_:_x\">x</code></td>\n",
       "<td>\n",
       "<p>an arbitrary <span class=\"rlang\"><b>R</b></span> object.</p>\n",
       "</td></tr>\n",
       "<tr><td><code id=\"ts_:_...\">...</code></td>\n",
       "<td>\n",
       "<p>arguments passed to methods (unused for the default method).</p>\n",
       "</td></tr>\n",
       "</table>\n",
       "\n",
       "\n",
       "<h3>Details</h3>\n",
       "\n",
       "<p>The function <code>ts</code> is used to create time-series objects.  These\n",
       "are vectors or matrices which inherit from class <code>\"ts\"</code> (and have\n",
       "additional\n",
       "attributes) which represent data which has been sampled at equispaced\n",
       "points in time.  In the matrix case, each column of the matrix\n",
       "<code>data</code> is assumed to contain a single (univariate) time series.\n",
       "Time series must have at least one observation, and although they need\n",
       "not be numeric there is very limited support for non-numeric series.\n",
       "</p>\n",
       "<p>Class <code>\"ts\"</code> has a number of methods.  In particular arithmetic\n",
       "will attempt to align time axes, and subsetting to extract subsets of\n",
       "series can be used (e.g., <code>EuStockMarkets[, \"DAX\"]</code>).  However,\n",
       "subsetting the first (or only) dimension will return a matrix or\n",
       "vector, as will matrix subsetting.  Subassignment can be used to\n",
       "replace values but not to extend a series (see <code>window</code>).\n",
       "There is a method for <code>t</code> that transposes the series as a\n",
       "matrix (a one-column matrix if a vector) and hence returns a result\n",
       "that does not inherit from class <code>\"ts\"</code>.\n",
       "</p>\n",
       "<p>Argument <code>frequency</code> indicates the sampling frequency of the\n",
       "time series, with the default value <code>1</code> indicating one sample in\n",
       "each unit time interval.  For\n",
       "example, one could use a value of <code>7</code> for <code>frequency</code> when\n",
       "the data are sampled daily, and the natural time period is a week, or\n",
       "<code>12</code> when the data are sampled monthly and the natural time\n",
       "period is a year.  Values of <code>4</code> and <code>12</code> are assumed in\n",
       "(e.g.) <code>print</code> methods to imply a quarterly and monthly series\n",
       "respectively.  <code>frequency</code> need not be a whole\n",
       "number:  for example, <code>frequency = 0.2</code> would imply sampling\n",
       "once every five time units.\n",
       "</p>\n",
       "<p><code>as.ts</code> is generic.  Its default method will use the\n",
       "<code>tsp</code> attribute of the object if it has one to set the\n",
       "start and end times and frequency.\n",
       "</p>\n",
       "<p><code>is.ts()</code> tests if an object is a time series, i.e., inherits from\n",
       "<code>\"ts\"</code> and is of positive length.\n",
       "</p>\n",
       "<p><code>is.mts(x)</code> tests if an object <code>x</code> is a multivariate time series,\n",
       "i.e., fulfills <code>is.ts(x)</code>, <code>is.matrix(x)</code> and inherits from\n",
       "class <code>\"mts\"</code>.\n",
       "</p>\n",
       "\n",
       "\n",
       "<h3>References</h3>\n",
       "\n",
       "<p>Becker, R. A., Chambers, J. M. and Wilks, A. R. (1988)\n",
       "<em>The New S Language</em>.\n",
       "Wadsworth &amp; Brooks/Cole.\n",
       "</p>\n",
       "\n",
       "\n",
       "<h3>See Also</h3>\n",
       "\n",
       "<p><code>tsp</code>,\n",
       "<code>frequency</code>,\n",
       "<code>start</code>,\n",
       "<code>end</code>,\n",
       "<code>time</code>,\n",
       "<code>window</code>;\n",
       "<code>print.ts</code>, the print method for time series objects;\n",
       "<code>plot.ts</code>, the plot method for time series objects.\n",
       "</p>\n",
       "<p>For other definitions of &lsquo;time series&rsquo; (e.g.,\n",
       "time-ordered observations) see the CRAN task view at\n",
       "<a href=\"https://CRAN.R-project.org/view=TimeSeries\">https://CRAN.R-project.org/view=TimeSeries</a>.\n",
       "</p>\n",
       "\n",
       "\n",
       "<h3>Examples</h3>\n",
       "\n",
       "<pre><code class='language-R'>require(graphics)\n",
       "\n",
       "ts(1:10, frequency = 4, start = c(1959, 2)) # 2nd Quarter of 1959\n",
       "print( ts(1:10, frequency = 7, start = c(12, 2)), calendar = TRUE)\n",
       "# print.ts(.)\n",
       "## Using July 1954 as start date:\n",
       "gnp &lt;- ts(cumsum(1 + round(rnorm(100), 2)),\n",
       "          start = c(1954, 7), frequency = 12)\n",
       "plot(gnp) # using 'plot.ts' for time-series plot\n",
       "\n",
       "## Multivariate\n",
       "z &lt;- ts(matrix(rnorm(300), 100, 3), start = c(1961, 1), frequency = 12)\n",
       "class(z)\n",
       "is.mts(z)\n",
       "head(z) # as \"matrix\"\n",
       "plot(z)\n",
       "plot(z, plot.type = \"single\", lty = 1:3)\n",
       "\n",
       "## A phase plot:\n",
       "plot(nhtemp, lag(nhtemp, 1), cex = .8, col = \"blue\",\n",
       "     main = \"Lag plot of New Haven temperatures\")\n",
       "</code></pre>\n",
       "\n",
       "<hr /><div style=\"text-align: center;\">[Package <em>stats</em> version 4.3.3 ]</div>\n",
       "</div>"
      ],
      "text/latex": [
       "\\inputencoding{utf8}\n",
       "\\HeaderA{ts}{Time-Series Objects}{ts}\n",
       "\\aliasA{[.ts}{ts}{[.ts}\n",
       "\\aliasA{as.ts}{ts}{as.ts}\n",
       "\\methaliasA{as.ts.default}{ts}{as.ts.default}\n",
       "\\aliasA{cbind.ts}{ts}{cbind.ts}\n",
       "\\aliasA{is.mts}{ts}{is.mts}\n",
       "\\aliasA{is.ts}{ts}{is.ts}\n",
       "\\aliasA{Ops.ts}{ts}{Ops.ts}\n",
       "\\aliasA{t.ts}{ts}{t.ts}\n",
       "\\keyword{ts}{ts}\n",
       "%\n",
       "\\begin{Description}\n",
       "The function \\code{ts} is used to create time-series objects.\n",
       "\n",
       "\\code{as.ts} and \\code{is.ts} coerce an object to a time-series and\n",
       "test whether an object is a time series.\n",
       "\\end{Description}\n",
       "%\n",
       "\\begin{Usage}\n",
       "\\begin{verbatim}\n",
       "ts(data = NA, start = 1, end = numeric(), frequency = 1,\n",
       "   deltat = 1, ts.eps = getOption(\"ts.eps\"),\n",
       "   class = if(nseries > 1) c(\"mts\", \"ts\", \"matrix\", \"array\") else \"ts\",\n",
       "   names = )\n",
       "as.ts(x, ...)\n",
       "is.ts(x)\n",
       "\n",
       "is.mts(x)\n",
       "\\end{verbatim}\n",
       "\\end{Usage}\n",
       "%\n",
       "\\begin{Arguments}\n",
       "\\begin{ldescription}\n",
       "\\item[\\code{data}] a vector or matrix of the observed time-series\n",
       "values. A data frame will be coerced to a numeric matrix via\n",
       "\\code{data.matrix}.  (See also `Details'.)\n",
       "\\item[\\code{start}] the time of the first observation.  Either a single\n",
       "number or a vector of two numbers (the second of which is an integer),\n",
       "which specify a natural time\n",
       "unit and a (1-based) number of samples into the time unit.  See\n",
       "the examples for the use of the second form.\n",
       "\\item[\\code{end}] the time of the last observation, specified in the same way\n",
       "as \\code{start}.\n",
       "\\item[\\code{frequency}] the number of observations per unit of time.\n",
       "\\item[\\code{deltat}] the fraction of the sampling period between successive\n",
       "observations; e.g., 1/12 for monthly data.  Only one of\n",
       "\\code{frequency} or \\code{deltat} should be provided.\n",
       "\\item[\\code{ts.eps}] time series comparison tolerance.  Frequencies are\n",
       "considered equal if their absolute difference is less than\n",
       "\\code{ts.eps}.\n",
       "\\item[\\code{class}] class to be given to the result, or none if \\code{NULL}\n",
       "or \\code{\"none\"}.  The default is \\code{\"ts\"} for a single series, or\n",
       "\\code{c(\"mts\", \"ts\", \"matrix\", \"array\")} for multiple series.\n",
       "\\item[\\code{names}] a character vector of names for the series in a multiple\n",
       "series: defaults to the colnames of \\code{data}, or \\code{\"Series 1\"},\n",
       "\\code{\"Series 2\"}, \\dots.\n",
       "\\item[\\code{x}] an arbitrary \\R{} object.\n",
       "\\item[\\code{...}] arguments passed to methods (unused for the default method).\n",
       "\\end{ldescription}\n",
       "\\end{Arguments}\n",
       "%\n",
       "\\begin{Details}\n",
       "The function \\code{ts} is used to create time-series objects.  These\n",
       "are vectors or matrices which inherit from class \\code{\"ts\"} (and have\n",
       "additional\n",
       "attributes) which represent data which has been sampled at equispaced\n",
       "points in time.  In the matrix case, each column of the matrix\n",
       "\\code{data} is assumed to contain a single (univariate) time series.\n",
       "Time series must have at least one observation, and although they need\n",
       "not be numeric there is very limited support for non-numeric series.\n",
       "\n",
       "Class \\code{\"ts\"} has a number of methods.  In particular arithmetic\n",
       "will attempt to align time axes, and subsetting to extract subsets of\n",
       "series can be used (e.g., \\code{EuStockMarkets[, \"DAX\"]}).  However,\n",
       "subsetting the first (or only) dimension will return a matrix or\n",
       "vector, as will matrix subsetting.  Subassignment can be used to\n",
       "replace values but not to extend a series (see \\code{\\LinkA{window}{window}}).\n",
       "There is a method for \\code{\\LinkA{t}{t}} that transposes the series as a\n",
       "matrix (a one-column matrix if a vector) and hence returns a result\n",
       "that does not inherit from class \\code{\"ts\"}.\n",
       "\n",
       "Argument \\code{frequency} indicates the sampling frequency of the\n",
       "time series, with the default value \\code{1} indicating one sample in\n",
       "each unit time interval.  For\n",
       "example, one could use a value of \\code{7} for \\code{frequency} when\n",
       "the data are sampled daily, and the natural time period is a week, or\n",
       "\\code{12} when the data are sampled monthly and the natural time\n",
       "period is a year.  Values of \\code{4} and \\code{12} are assumed in\n",
       "(e.g.) \\code{print} methods to imply a quarterly and monthly series\n",
       "respectively.  \\code{frequency} need not be a whole\n",
       "number:  for example, \\code{frequency = 0.2} would imply sampling\n",
       "once every five time units.\n",
       "\n",
       "\\code{as.ts} is generic.  Its default method will use the\n",
       "\\code{\\LinkA{tsp}{tsp}} attribute of the object if it has one to set the\n",
       "start and end times and frequency.\n",
       "\n",
       "\\code{is.ts()} tests if an object is a time series, i.e., inherits from\n",
       "\\code{\"ts\"} and is of positive length.\n",
       "\n",
       "\\code{is.mts(x)} tests if an object \\code{x} is a multivariate time series,\n",
       "i.e., fulfills \\code{is.ts(x)}, \\code{is.matrix(x)} and inherits from\n",
       "class \\code{\"mts\"}.\n",
       "\\end{Details}\n",
       "%\n",
       "\\begin{References}\n",
       "Becker, R. A., Chambers, J. M. and Wilks, A. R. (1988)\n",
       "\\emph{The New S Language}.\n",
       "Wadsworth \\& Brooks/Cole.\n",
       "\\end{References}\n",
       "%\n",
       "\\begin{SeeAlso}\n",
       "\\code{\\LinkA{tsp}{tsp}},\n",
       "\\code{\\LinkA{frequency}{frequency}},\n",
       "\\code{\\LinkA{start}{start}},\n",
       "\\code{\\LinkA{end}{end}},\n",
       "\\code{\\LinkA{time}{time}},\n",
       "\\code{\\LinkA{window}{window}};\n",
       "\\code{\\LinkA{print.ts}{print.ts}}, the print method for time series objects;\n",
       "\\code{\\LinkA{plot.ts}{plot.ts}}, the plot method for time series objects.\n",
       "\n",
       "For other definitions of `time series' (e.g.,\n",
       "time-ordered observations) see the CRAN task view at\n",
       "\\url{https://CRAN.R-project.org/view=TimeSeries}.\n",
       "\\end{SeeAlso}\n",
       "%\n",
       "\\begin{Examples}\n",
       "\\begin{ExampleCode}\n",
       "require(graphics)\n",
       "\n",
       "ts(1:10, frequency = 4, start = c(1959, 2)) # 2nd Quarter of 1959\n",
       "print( ts(1:10, frequency = 7, start = c(12, 2)), calendar = TRUE)\n",
       "# print.ts(.)\n",
       "## Using July 1954 as start date:\n",
       "gnp <- ts(cumsum(1 + round(rnorm(100), 2)),\n",
       "          start = c(1954, 7), frequency = 12)\n",
       "plot(gnp) # using 'plot.ts' for time-series plot\n",
       "\n",
       "## Multivariate\n",
       "z <- ts(matrix(rnorm(300), 100, 3), start = c(1961, 1), frequency = 12)\n",
       "class(z)\n",
       "is.mts(z)\n",
       "head(z) # as \"matrix\"\n",
       "plot(z)\n",
       "plot(z, plot.type = \"single\", lty = 1:3)\n",
       "\n",
       "## A phase plot:\n",
       "plot(nhtemp, lag(nhtemp, 1), cex = .8, col = \"blue\",\n",
       "     main = \"Lag plot of New Haven temperatures\")\n",
       "\\end{ExampleCode}\n",
       "\\end{Examples}"
      ],
      "text/plain": [
       "ts                    package:stats                    R Documentation\n",
       "\n",
       "_\bT_\bi_\bm_\be-_\bS_\be_\br_\bi_\be_\bs _\bO_\bb_\bj_\be_\bc_\bt_\bs\n",
       "\n",
       "_\bD_\be_\bs_\bc_\br_\bi_\bp_\bt_\bi_\bo_\bn:\n",
       "\n",
       "     The function ‘ts’ is used to create time-series objects.\n",
       "\n",
       "     ‘as.ts’ and ‘is.ts’ coerce an object to a time-series and test\n",
       "     whether an object is a time series.\n",
       "\n",
       "_\bU_\bs_\ba_\bg_\be:\n",
       "\n",
       "     ts(data = NA, start = 1, end = numeric(), frequency = 1,\n",
       "        deltat = 1, ts.eps = getOption(\"ts.eps\"),\n",
       "        class = if(nseries > 1) c(\"mts\", \"ts\", \"matrix\", \"array\") else \"ts\",\n",
       "        names = )\n",
       "     as.ts(x, ...)\n",
       "     is.ts(x)\n",
       "     \n",
       "     is.mts(x)\n",
       "     \n",
       "_\bA_\br_\bg_\bu_\bm_\be_\bn_\bt_\bs:\n",
       "\n",
       "    data: a vector or matrix of the observed time-series values. A data\n",
       "          frame will be coerced to a numeric matrix via ‘data.matrix’.\n",
       "          (See also ‘Details’.)\n",
       "\n",
       "   start: the time of the first observation.  Either a single number or\n",
       "          a vector of two numbers (the second of which is an integer),\n",
       "          which specify a natural time unit and a (1-based) number of\n",
       "          samples into the time unit.  See the examples for the use of\n",
       "          the second form.\n",
       "\n",
       "     end: the time of the last observation, specified in the same way\n",
       "          as ‘start’.\n",
       "\n",
       "frequency: the number of observations per unit of time.\n",
       "\n",
       "  deltat: the fraction of the sampling period between successive\n",
       "          observations; e.g., 1/12 for monthly data.  Only one of\n",
       "          ‘frequency’ or ‘deltat’ should be provided.\n",
       "\n",
       "  ts.eps: time series comparison tolerance.  Frequencies are considered\n",
       "          equal if their absolute difference is less than ‘ts.eps’.\n",
       "\n",
       "   class: class to be given to the result, or none if ‘NULL’ or\n",
       "          ‘\"none\"’.  The default is ‘\"ts\"’ for a single series, or\n",
       "          ‘c(\"mts\", \"ts\", \"matrix\", \"array\")’ for multiple series.\n",
       "\n",
       "   names: a character vector of names for the series in a multiple\n",
       "          series: defaults to the colnames of ‘data’, or ‘\"Series 1\"’,\n",
       "          ‘\"Series 2\"’, ....\n",
       "\n",
       "       x: an arbitrary R object.\n",
       "\n",
       "     ...: arguments passed to methods (unused for the default method).\n",
       "\n",
       "_\bD_\be_\bt_\ba_\bi_\bl_\bs:\n",
       "\n",
       "     The function ‘ts’ is used to create time-series objects.  These\n",
       "     are vectors or matrices which inherit from class ‘\"ts\"’ (and have\n",
       "     additional attributes) which represent data which has been sampled\n",
       "     at equispaced points in time.  In the matrix case, each column of\n",
       "     the matrix ‘data’ is assumed to contain a single (univariate) time\n",
       "     series.  Time series must have at least one observation, and\n",
       "     although they need not be numeric there is very limited support\n",
       "     for non-numeric series.\n",
       "\n",
       "     Class ‘\"ts\"’ has a number of methods.  In particular arithmetic\n",
       "     will attempt to align time axes, and subsetting to extract subsets\n",
       "     of series can be used (e.g., ‘EuStockMarkets[, \"DAX\"]’).  However,\n",
       "     subsetting the first (or only) dimension will return a matrix or\n",
       "     vector, as will matrix subsetting.  Subassignment can be used to\n",
       "     replace values but not to extend a series (see ‘window’).  There\n",
       "     is a method for ‘t’ that transposes the series as a matrix (a\n",
       "     one-column matrix if a vector) and hence returns a result that\n",
       "     does not inherit from class ‘\"ts\"’.\n",
       "\n",
       "     Argument ‘frequency’ indicates the sampling frequency of the time\n",
       "     series, with the default value ‘1’ indicating one sample in each\n",
       "     unit time interval.  For example, one could use a value of ‘7’ for\n",
       "     ‘frequency’ when the data are sampled daily, and the natural time\n",
       "     period is a week, or ‘12’ when the data are sampled monthly and\n",
       "     the natural time period is a year.  Values of ‘4’ and ‘12’ are\n",
       "     assumed in (e.g.) ‘print’ methods to imply a quarterly and monthly\n",
       "     series respectively.  ‘frequency’ need not be a whole number: for\n",
       "     example, ‘frequency = 0.2’ would imply sampling once every five\n",
       "     time units.\n",
       "\n",
       "     ‘as.ts’ is generic.  Its default method will use the ‘tsp’\n",
       "     attribute of the object if it has one to set the start and end\n",
       "     times and frequency.\n",
       "\n",
       "     ‘is.ts()’ tests if an object is a time series, i.e., inherits from\n",
       "     ‘\"ts\"’ and is of positive length.\n",
       "\n",
       "     ‘is.mts(x)’ tests if an object ‘x’ is a multivariate time series,\n",
       "     i.e., fulfills ‘is.ts(x)’, ‘is.matrix(x)’ and inherits from class\n",
       "     ‘\"mts\"’.\n",
       "\n",
       "_\bR_\be_\bf_\be_\br_\be_\bn_\bc_\be_\bs:\n",
       "\n",
       "     Becker, R. A., Chambers, J. M. and Wilks, A. R. (1988) _The New S\n",
       "     Language_.  Wadsworth & Brooks/Cole.\n",
       "\n",
       "_\bS_\be_\be _\bA_\bl_\bs_\bo:\n",
       "\n",
       "     ‘tsp’, ‘frequency’, ‘start’, ‘end’, ‘time’, ‘window’; ‘print.ts’,\n",
       "     the print method for time series objects; ‘plot.ts’, the plot\n",
       "     method for time series objects.\n",
       "\n",
       "     For other definitions of ‘time series’ (e.g., time-ordered\n",
       "     observations) see the CRAN task view at\n",
       "     <https://CRAN.R-project.org/view=TimeSeries>.\n",
       "\n",
       "_\bE_\bx_\ba_\bm_\bp_\bl_\be_\bs:\n",
       "\n",
       "     require(graphics)\n",
       "     \n",
       "     ts(1:10, frequency = 4, start = c(1959, 2)) # 2nd Quarter of 1959\n",
       "     print( ts(1:10, frequency = 7, start = c(12, 2)), calendar = TRUE)\n",
       "     # print.ts(.)\n",
       "     ## Using July 1954 as start date:\n",
       "     gnp <- ts(cumsum(1 + round(rnorm(100), 2)),\n",
       "               start = c(1954, 7), frequency = 12)\n",
       "     plot(gnp) # using 'plot.ts' for time-series plot\n",
       "     \n",
       "     ## Multivariate\n",
       "     z <- ts(matrix(rnorm(300), 100, 3), start = c(1961, 1), frequency = 12)\n",
       "     class(z)\n",
       "     is.mts(z)\n",
       "     head(z) # as \"matrix\"\n",
       "     plot(z)\n",
       "     plot(z, plot.type = \"single\", lty = 1:3)\n",
       "     \n",
       "     ## A phase plot:\n",
       "     plot(nhtemp, lag(nhtemp, 1), cex = .8, col = \"blue\",\n",
       "          main = \"Lag plot of New Haven temperatures\")\n",
       "     "
      ]
     },
     "metadata": {},
     "output_type": "display_data"
    }
   ],
   "source": [
    "?ts"
   ]
  },
  {
   "cell_type": "code",
   "execution_count": 38,
   "id": "d92b68a3-fa6f-4ab3-bf9d-804f332f8b26",
   "metadata": {
    "execution": {
     "iopub.execute_input": "2024-06-18T20:00:26.778092Z",
     "iopub.status.busy": "2024-06-18T20:00:26.777489Z",
     "iopub.status.idle": "2024-06-18T20:04:03.001083Z",
     "shell.execute_reply": "2024-06-18T20:04:03.000507Z"
    },
    "vscode": {
     "languageId": "r"
    }
   },
   "outputs": [
    {
     "data": {
      "text/plain": [
       "Series: dts.train \n",
       "ARIMA(3,1,5) \n",
       "\n",
       "Coefficients:\n",
       "         ar1    ar2      ar3      ma1      ma2     ma3     ma4      ma5\n",
       "      0.9073  0.797  -0.7621  -0.3964  -1.1689  0.4825  0.3080  -0.2131\n",
       "s.e.  0.0568  0.084   0.0515   0.0664   0.0702  0.0667  0.0453   0.0454\n",
       "\n",
       "sigma^2 = 261113:  log likelihood = -5072.66\n",
       "AIC=10163.31   AICc=10163.59   BIC=10203.78\n",
       "\n",
       "Training set error measures:\n",
       "                    ME     RMSE      MAE       MPE     MAPE      MASE\n",
       "Training set -8.778154 507.5176 236.7172 -18.17572 28.83012 0.1442657\n",
       "                    ACF1\n",
       "Training set 0.003823684"
      ]
     },
     "metadata": {},
     "output_type": "display_data"
    }
   ],
   "source": [
    "fit.train = auto.arima(dts.train, approximation = FALSE)\n",
    "summary(fit.train)"
   ]
  },
  {
   "cell_type": "code",
   "execution_count": 70,
   "id": "8561c100-8c53-4278-b873-b5e4a8d8fd1f",
   "metadata": {
    "execution": {
     "iopub.execute_input": "2024-06-18T20:22:39.511639Z",
     "iopub.status.busy": "2024-06-18T20:22:39.511053Z",
     "iopub.status.idle": "2024-06-18T20:22:39.684472Z",
     "shell.execute_reply": "2024-06-18T20:22:39.683647Z"
    }
   },
   "outputs": [
    {
     "data": {
      "image/png": "[encoded data removed]",
      "text/plain": [
       "plot without title"
      ]
     },
     "metadata": {
      "image/png": {
       "height": 420,
       "width": 420
      }
     },
     "output_type": "display_data"
    }
   ],
   "source": [
    "autoplot(forecast(fit.train,h=52))+\n",
    "autolayer(dts.all)+\n",
    "autolayer(dts.train)\n",
    "\n"
   ]
  },
  {
   "cell_type": "code",
   "execution_count": 71,
   "id": "565578ff-9de5-41b7-bb81-0ae69727f1c2",
   "metadata": {
    "execution": {
     "iopub.execute_input": "2024-06-18T20:23:24.435170Z",
     "iopub.status.busy": "2024-06-18T20:23:24.434540Z",
     "iopub.status.idle": "2024-06-18T20:23:24.443955Z",
     "shell.execute_reply": "2024-06-18T20:23:24.443339Z"
    }
   },
   "outputs": [
    {
     "data": {
      "text/plain": [
       "         Point Forecast      Lo 80     Hi 80      Lo 95    Hi 95\n",
       "2022.769       268.8971  -385.9662  923.7603  -732.6298 1270.424\n",
       "2022.788       282.8255  -903.7232 1469.3743 -1531.8442 2097.495\n",
       "2022.808       303.6440 -1280.4590 1887.7470 -2119.0324 2726.320\n",
       "2022.827       312.6948 -1667.1548 2292.5444 -2715.2239 3340.613\n",
       "2022.846       333.7264 -2038.8719 2706.3247 -3294.8495 3962.302\n",
       "2022.865       344.1574 -2381.1438 3069.4587 -3823.8312 4512.146\n",
       "2022.885       363.4872 -2682.9985 3409.9729 -4295.7106 5022.685\n",
       "2022.904       373.3118 -2945.1096 3691.7332 -4701.7757 5448.399\n",
       "2022.923       389.6831 -3161.6341 3941.0003 -5041.5878 5820.954\n",
       "2022.942       397.6369 -3340.3606 4135.6344 -5319.1369 6114.411\n",
       "2022.962       410.4149 -3478.2182 4299.0479 -5536.7361 6357.566\n",
       "2022.981       415.8719 -3586.2217 4417.9655 -5704.8021 6536.546\n",
       "2023.000       424.9462 -3662.6527 4512.5450 -5826.4969 6676.389\n",
       "2023.019       427.7910 -3719.2802 4574.8623 -5914.6071 6770.189\n",
       "2023.038       433.4461 -3754.6325 4621.5246 -5971.6674 6838.560\n",
       "2023.058       433.9291 -3779.5863 4647.4446 -6010.0866 6877.945\n",
       "2023.077       436.7066 -3792.1585 4665.5717 -6030.7845 6904.198\n",
       "2023.096       435.3021 -3801.3902 4671.9944 -6044.1596 6914.764\n",
       "2023.115       435.8734 -3804.4751 4676.2218 -6049.1799 6920.927\n",
       "2023.135       433.1556 -3808.3353 4674.6464 -6053.6449 6919.956\n",
       "2023.154       432.2152 -3809.4771 4673.9075 -6054.8933 6919.324\n",
       "2023.173       428.7605 -3812.9443 4670.4653 -6058.3672 6915.888\n",
       "2023.192       426.9476 -3814.9809 4668.8762 -6060.5222 6914.417\n",
       "2023.212       423.2659 -3819.2633 4665.7950 -6065.1226 6911.654\n",
       "2023.231       421.1131 -3822.2426 4664.4689 -6068.5394 6910.766\n",
       "2023.250       417.6070 -3826.7419 4661.9558 -6073.5644 6908.778\n",
       "2023.269       415.5157 -3829.7407 4660.7721 -6077.0437 6908.075\n",
       "2023.288       412.4643 -3833.5671 4658.4957 -6081.2803 6906.209\n",
       "2023.308       410.7008 -3835.8391 4657.2408 -6083.8216 6905.223\n",
       "2023.327       408.2625 -3838.5662 4655.0911 -6086.7014 6903.226\n",
       "2023.346       406.9699 -3839.9485 4653.8883 -6088.1313 6902.071\n",
       "2023.365       405.1976 -3841.7259 4652.1211 -6089.9113 6900.307\n",
       "2023.385       404.4176 -3842.5425 4651.3777 -6090.7474 6899.583\n",
       "2023.404       403.2823 -3843.8634 4650.4280 -6092.1666 6898.731\n",
       "2023.423       402.9811 -3844.6313 4650.5936 -6093.1815 6899.144\n",
       "2023.442       402.3975 -3846.0298 4650.8247 -6095.0113 6899.806\n",
       "2023.462       402.4931 -3847.1898 4652.1760 -6096.8360 6901.822\n",
       "2023.481       402.3441 -3849.0307 4653.7189 -6099.5725 6904.261\n",
       "2023.500       402.7300 -3850.8072 4656.2672 -6102.4938 6907.954\n",
       "2023.519       402.8885 -3853.2155 4658.9925 -6106.2608 6912.038\n",
       "2023.538       403.4534 -3855.6070 4662.5137 -6110.2173 6917.124\n",
       "2023.558       403.7982 -3858.5068 4666.1032 -6114.8347 6922.431\n",
       "2023.577       404.4405 -3861.3568 4670.2378 -6119.5335 6928.415\n",
       "2023.596       404.8677 -3864.5619 4674.2973 -6124.6614 6934.397\n",
       "2023.615       405.5044 -3867.6536 4678.6623 -6129.7268 6940.735\n",
       "2023.635       405.9330 -3870.9566 4682.8226 -6135.0051 6946.871\n",
       "2023.654       406.5039 -3874.0883 4687.0961 -6140.0969 6953.105\n",
       "2023.673       406.8783 -3877.3200 4691.0766 -6145.2376 6958.994\n",
       "2023.692       407.3464 -3880.3468 4695.0396 -6150.1145 6964.807\n",
       "2023.712       407.6344 -3883.4015 4698.6703 -6154.9387 6970.208\n",
       "2023.731       407.9835 -3886.2445 4702.2114 -6159.4715 6975.438\n",
       "2023.750       408.1731 -3889.0773 4705.4235 -6163.9043 6980.250"
      ]
     },
     "metadata": {},
     "output_type": "display_data"
    }
   ],
   "source": [
    "forecast(fit.train,h=52)"
   ]
  },
  {
   "cell_type": "code",
   "execution_count": null,
   "id": "0f4cffd2-8e10-4479-9883-3f4bc772b767",
   "metadata": {},
   "outputs": [],
   "source": []
  }
 ],
 "metadata": {
  "kernelspec": {
   "display_name": "R",
   "language": "R",
   "name": "ir"
  },
  "language_info": {
   "codemirror_mode": "r",
   "file_extension": ".r",
   "mimetype": "text/x-r-source",
   "name": "R",
   "pygments_lexer": "r",
   "version": "4.3.3"
  }
 },
 "nbformat": 4,
 "nbformat_minor": 5
}
