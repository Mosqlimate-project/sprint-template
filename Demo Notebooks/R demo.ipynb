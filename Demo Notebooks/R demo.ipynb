{
 "cells": [
  {
   "cell_type": "markdown",
   "id": "2d8c1699-1dc7-4c3d-94af-c021eef8a6ee",
   "metadata": {},
   "source": [
    "# Creating a simple forecasting model\n",
    "Before we can use mosqlient, we need to install the reticulate library in R. If you already have it installed, you can skip the cell below."
   ]
  },
  {
   "cell_type": "code",
   "execution_count": 1,
   "id": "2ad0f452-3e6f-4002-8ad9-73d5a6e02e06",
   "metadata": {
    "execution": {
     "iopub.execute_input": "2024-06-17T18:43:57.499264Z",
     "iopub.status.busy": "2024-06-17T18:43:57.498115Z",
     "iopub.status.idle": "2024-06-17T18:44:45.684008Z",
     "shell.execute_reply": "2024-06-17T18:44:45.683387Z"
    }
   },
   "outputs": [
    {
     "name": "stderr",
     "output_type": "stream",
     "text": [
      "Installing package into ‘/home/fccoelho/R/x86_64-pc-linux-gnu-library/4.3’\n",
      "(as ‘lib’ is unspecified)\n",
      "\n",
      "\u001b[33m!\u001b[39m Using bundled GitHub PAT. Please add your own PAT using `gitcreds::gitcreds_set()`.\n",
      "\n",
      "\n",
      "\u001b[32m✔\u001b[39m Updated metadata database: 1.38 MB in 1 file.\n",
      "\n",
      "\n",
      "\u001b[36mℹ\u001b[39m Updating metadata database\n",
      "\u001b[32m✔\u001b[39m Updating metadata database ... done\n",
      "\n",
      "\n",
      " \n",
      "\n",
      "\u001b[32m✔\u001b[39m All system requirements are already installed.\n",
      "\n",
      "  \n",
      "\n",
      "\u001b[36mℹ\u001b[39m No downloads are needed\n",
      "\n",
      "\u001b[32m✔\u001b[39m 1 pkg + 11 deps: kept 10 \u001b[90m\u001b[90m[4.8s]\u001b[90m\u001b[39m\n",
      "\n"
     ]
    }
   ],
   "source": [
    "install.packages('pak')\n",
    "library(pak)\n",
    "pak::pak(\"rstudio/reticulate\")"
   ]
  },
  {
   "cell_type": "code",
   "execution_count": 1,
   "id": "124806c7-1023-4ee7-8acf-7207c555f6bf",
   "metadata": {
    "execution": {
     "iopub.execute_input": "2024-06-17T19:05:48.324502Z",
     "iopub.status.busy": "2024-06-17T19:05:48.323339Z",
     "iopub.status.idle": "2024-06-17T19:05:48.817292Z",
     "shell.execute_reply": "2024-06-17T19:05:48.816558Z"
    }
   },
   "outputs": [],
   "source": [
    "library(reticulate)"
   ]
  },
  {
   "cell_type": "markdown",
   "id": "527e0394-6407-4a74-9393-3d265a92bd0e",
   "metadata": {},
   "source": [
    "## Installing Mosqlient"
   ]
  },
  {
   "cell_type": "code",
   "execution_count": 2,
   "id": "b7e9569c-7f8a-4fe8-bf5e-57d8d6528704",
   "metadata": {
    "execution": {
     "iopub.execute_input": "2024-06-17T19:05:51.641951Z",
     "iopub.status.busy": "2024-06-17T19:05:51.631208Z",
     "iopub.status.idle": "2024-06-17T19:05:52.146410Z",
     "shell.execute_reply": "2024-06-17T19:05:52.145625Z"
    }
   },
   "outputs": [
    {
     "name": "stdout",
     "output_type": "stream",
     "text": [
      "Using virtual environment 'r-reticulate' ...\n"
     ]
    },
    {
     "name": "stderr",
     "output_type": "stream",
     "text": [
      "+ /home/fccoelho/.virtualenvs/r-reticulate/bin/python -m pip install --upgrade --no-user 'mosqlient>=1.2.2'\n",
      "\n"
     ]
    }
   ],
   "source": [
    "py_install(\"mosqlient>=1.2.2\", envname='r-reticulate')"
   ]
  },
  {
   "cell_type": "code",
   "execution_count": 3,
   "id": "76714d63-bd9e-4f44-96e0-7ba6d8c9ff4f",
   "metadata": {
    "execution": {
     "iopub.execute_input": "2024-06-17T19:05:54.053705Z",
     "iopub.status.busy": "2024-06-17T19:05:54.052562Z",
     "iopub.status.idle": "2024-06-17T19:05:54.136362Z",
     "shell.execute_reply": "2024-06-17T19:05:54.135604Z"
    }
   },
   "outputs": [],
   "source": [
    "use_virtualenv('r-reticulate')"
   ]
  },
  {
   "cell_type": "code",
   "execution_count": 4,
   "id": "459ad639-b349-4aba-936b-c842cf576766",
   "metadata": {
    "execution": {
     "iopub.execute_input": "2024-06-17T19:05:54.952683Z",
     "iopub.status.busy": "2024-06-17T19:05:54.951993Z",
     "iopub.status.idle": "2024-06-17T19:05:55.442105Z",
     "shell.execute_reply": "2024-06-17T19:05:55.441333Z"
    }
   },
   "outputs": [],
   "source": [
    "mosq <- import(\"mosqlient\")"
   ]
  },
  {
   "cell_type": "code",
   "execution_count": 5,
   "id": "49793739-dff6-4e4e-8bf7-933ab4c768c7",
   "metadata": {
    "execution": {
     "iopub.execute_input": "2024-06-17T19:05:56.068125Z",
     "iopub.status.busy": "2024-06-17T19:05:56.067055Z",
     "iopub.status.idle": "2024-06-17T19:05:56.080934Z",
     "shell.execute_reply": "2024-06-17T19:05:56.080049Z"
    }
   },
   "outputs": [
    {
     "data": {
      "text/html": [
       "'1.2.2'"
      ],
      "text/latex": [
       "'1.2.2'"
      ],
      "text/markdown": [
       "'1.2.2'"
      ],
      "text/plain": [
       "[1] \"1.2.2\""
      ]
     },
     "metadata": {},
     "output_type": "display_data"
    }
   ],
   "source": [
    "mosq$version"
   ]
  },
  {
   "cell_type": "markdown",
   "id": "f99cf40b-d1c9-435a-a5ec-27ebff0c4aa2",
   "metadata": {},
   "source": [
    "## Downloading the Dengue dataset\n",
    "Here we will build a simple univariate model using only dengue cases."
   ]
  },
  {
   "cell_type": "code",
   "execution_count": null,
   "id": "96abfb38-1859-40e1-9631-1c852ae57663",
   "metadata": {
    "scrolled": true
   },
   "outputs": [],
   "source": [
    "data <- mosq$get_infodengue(disease='dengue', start_date='2023-12-01',end_date='2023-12-31', uf='RJ')\n",
    "data"
   ]
  },
  {
   "cell_type": "code",
   "execution_count": null,
   "id": "ea1c5862-7f87-41da-9bc1-74a14ef02bdb",
   "metadata": {},
   "outputs": [],
   "source": []
  }
 ],
 "metadata": {
  "kernelspec": {
   "display_name": "R",
   "language": "R",
   "name": "ir"
  },
  "language_info": {
   "codemirror_mode": "r",
   "file_extension": ".r",
   "mimetype": "text/x-r-source",
   "name": "R",
   "pygments_lexer": "r",
   "version": "4.3.3"
  }
 },
 "nbformat": 4,
 "nbformat_minor": 5
}
