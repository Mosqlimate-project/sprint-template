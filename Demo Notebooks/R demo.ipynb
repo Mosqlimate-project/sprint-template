{
 "cells": [
  {
   "cell_type": "markdown",
   "id": "2d8c1699-1dc7-4c3d-94af-c021eef8a6ee",
   "metadata": {},
   "source": [
    "# Creating a simple forecasting model\n",
    "Before we can use mosqlient, we need to install the reticulate library in R. If you already have it installed, you can skip the cell below."
   ]
  },
  {
   "cell_type": "code",
   "execution_count": 1,
   "id": "2ad0f452-3e6f-4002-8ad9-73d5a6e02e06",
   "metadata": {
    "execution": {
     "iopub.execute_input": "2024-06-18T19:19:32.363816Z",
     "iopub.status.busy": "2024-06-18T19:19:32.362795Z",
     "iopub.status.idle": "2024-06-18T19:20:32.040833Z",
     "shell.execute_reply": "2024-06-18T19:20:32.040235Z"
    },
    "vscode": {
     "languageId": "r"
    }
   },
   "outputs": [
    {
     "name": "stderr",
     "output_type": "stream",
     "text": [
      "Installing package into ‘/home/fccoelho/R/x86_64-pc-linux-gnu-library/4.3’\n",
      "(as ‘lib’ is unspecified)\n",
      "\n",
      "\u001b[33m!\u001b[39m Using bundled GitHub PAT. Please add your own PAT using `gitcreds::gitcreds_set()`.\n",
      "\n",
      "\n",
      "\u001b[32m✔\u001b[39m Updated metadata database: 1.38 MB in 1 file.\n",
      "\n",
      "\n",
      "\u001b[36mℹ\u001b[39m Updating metadata database\n",
      "\u001b[32m✔\u001b[39m Updating metadata database ... done\n",
      "\n",
      "\n",
      " \n",
      "\n",
      "→ Will \u001b[3m\u001b[3mupdate\u001b[3m\u001b[23m 1 package.\n",
      "\n",
      "→ The package (0 B) is cached.\n",
      "\n",
      "\u001b[90m+ \u001b[39m\u001b[34mreticulate\u001b[39m 1.37.0.9000 → 1.37.0.\u001b[1m9001\u001b[22m [bld][cmp] (GitHub: a7da5ce)\u001b[90m + \u001b[39m\u001b[36m\u001b[32m✔\u001b[36m python3\u001b[39m\n",
      "\n",
      "\u001b[32m✔\u001b[39m All system requirements are already installed.\n",
      "\n",
      "  \n",
      "\n",
      "\u001b[36mℹ\u001b[39m No downloads are needed, 1 pkg is cached\n",
      "\n",
      "\u001b[32m✔\u001b[39m Got \u001b[34m\u001b[34mreticulate\u001b[34m\u001b[39m 1.37.0.9001 (source) (2.02 MB)\n",
      "\n",
      "\u001b[36mℹ\u001b[39m Packaging \u001b[34m\u001b[34mreticulate\u001b[34m\u001b[39m 1.37.0.9001\n",
      "\n",
      "\u001b[32m✔\u001b[39m Packaged \u001b[34m\u001b[34mreticulate\u001b[34m\u001b[39m 1.37.0.9001 \u001b[90m\u001b[90m(454ms)\u001b[90m\u001b[39m\n",
      "\n",
      "\u001b[36mℹ\u001b[39m Building \u001b[34m\u001b[34mreticulate\u001b[34m\u001b[39m 1.37.0.9001\n",
      "\n",
      "\u001b[32m✔\u001b[39m Built \u001b[34m\u001b[34mreticulate\u001b[34m\u001b[39m 1.37.0.9001 \u001b[90m\u001b[90m(11.2s)\u001b[90m\u001b[39m\n",
      "\n",
      "\u001b[32m✔\u001b[39m Installed \u001b[34m\u001b[34mreticulate\u001b[34m\u001b[39m 1.37.0.9001 (github::rstudio/reticulate@a7da5ce) \u001b[90m\u001b[90m(34ms)\u001b[90m\u001b[39m\n",
      "\n",
      "\u001b[32m✔\u001b[39m 1 pkg + 11 deps: kept 9, upd 1, dld 1 (NA B) \u001b[90m\u001b[90m[18.2s]\u001b[90m\u001b[39m\n",
      "\n"
     ]
    }
   ],
   "source": [
    "install.packages('pak')\n",
    "library(pak)\n",
    "pak::pak(\"rstudio/reticulate\")"
   ]
  },
  {
   "cell_type": "code",
   "execution_count": 2,
   "id": "124806c7-1023-4ee7-8acf-7207c555f6bf",
   "metadata": {
    "execution": {
     "iopub.execute_input": "2024-06-25T12:40:39.768293Z",
     "iopub.status.busy": "2024-06-25T12:40:39.754878Z",
     "iopub.status.idle": "2024-06-25T12:40:40.224640Z",
     "shell.execute_reply": "2024-06-25T12:40:40.223895Z"
    },
    "vscode": {
     "languageId": "r"
    }
   },
   "outputs": [],
   "source": [
    "library(reticulate)"
   ]
  },
  {
   "cell_type": "markdown",
   "id": "527e0394-6407-4a74-9393-3d265a92bd0e",
   "metadata": {},
   "source": [
    "## Installing Mosqlient"
   ]
  },
  {
   "cell_type": "code",
   "execution_count": 3,
   "id": "b7e9569c-7f8a-4fe8-bf5e-57d8d6528704",
   "metadata": {
    "execution": {
     "iopub.execute_input": "2024-06-25T12:40:41.395858Z",
     "iopub.status.busy": "2024-06-25T12:40:41.395062Z",
     "iopub.status.idle": "2024-06-25T12:40:45.165984Z",
     "shell.execute_reply": "2024-06-25T12:40:45.165221Z"
    },
    "vscode": {
     "languageId": "r"
    }
   },
   "outputs": [
    {
     "name": "stdout",
     "output_type": "stream",
     "text": [
      "Using virtual environment 'r-reticulate' ...\n"
     ]
    },
    {
     "name": "stderr",
     "output_type": "stream",
     "text": [
      "+ /home/fccoelho/.virtualenvs/r-reticulate/bin/python -m pip install --upgrade --no-user 'mosqlient>=1.2.2'\n",
      "\n"
     ]
    }
   ],
   "source": [
    "py_install(\"mosqlient>=1.2.2\", envname='r-reticulate')"
   ]
  },
  {
   "cell_type": "code",
   "execution_count": 4,
   "id": "459ad639-b349-4aba-936b-c842cf576766",
   "metadata": {
    "execution": {
     "iopub.execute_input": "2024-06-25T12:40:45.167521Z",
     "iopub.status.busy": "2024-06-25T12:40:45.167034Z",
     "iopub.status.idle": "2024-06-25T12:40:45.621011Z",
     "shell.execute_reply": "2024-06-25T12:40:45.620144Z"
    },
    "vscode": {
     "languageId": "r"
    }
   },
   "outputs": [],
   "source": [
    "mosq <- import(\"mosqlient\")"
   ]
  },
  {
   "cell_type": "code",
   "execution_count": 5,
   "id": "49793739-dff6-4e4e-8bf7-933ab4c768c7",
   "metadata": {
    "execution": {
     "iopub.execute_input": "2024-06-25T12:40:45.622656Z",
     "iopub.status.busy": "2024-06-25T12:40:45.622123Z",
     "iopub.status.idle": "2024-06-25T12:40:45.627972Z",
     "shell.execute_reply": "2024-06-25T12:40:45.627446Z"
    },
    "vscode": {
     "languageId": "r"
    }
   },
   "outputs": [
    {
     "data": {
      "text/html": [
       "'1.2.1'"
      ],
      "text/latex": [
       "'1.2.1'"
      ],
      "text/markdown": [
       "'1.2.1'"
      ],
      "text/plain": [
       "[1] \"1.2.1\""
      ]
     },
     "metadata": {},
     "output_type": "display_data"
    }
   ],
   "source": [
    "mosq$version"
   ]
  },
  {
   "cell_type": "markdown",
   "id": "f99cf40b-d1c9-435a-a5ec-27ebff0c4aa2",
   "metadata": {},
   "source": [
    "## Downloading the Dengue dataset\n",
    "Here we will build a simple univariate model using only dengue cases. We could use the Mosqlient library to fetch the data straight from the API, but instead we will download the prepared datasets made available by the sprint organizers. For this you can go to [info.dengue.mat.br/minio](https://info.dengue.mat.br/minio), and download the infodengue dataset. This dataset is a gzip compressed csv file called `dengue.csv.gv` and save it in the same directory as this notebook."
   ]
  },
  {
   "cell_type": "code",
   "execution_count": 6,
   "id": "f0d6f9b9-5cb3-4685-947b-52dd16c0896b",
   "metadata": {
    "execution": {
     "iopub.execute_input": "2024-06-25T12:40:47.523094Z",
     "iopub.status.busy": "2024-06-25T12:40:47.522535Z",
     "iopub.status.idle": "2024-06-25T12:40:47.561130Z",
     "shell.execute_reply": "2024-06-25T12:40:47.560213Z"
    },
    "vscode": {
     "languageId": "r"
    }
   },
   "outputs": [],
   "source": [
    "library(data.table)"
   ]
  },
  {
   "cell_type": "code",
   "execution_count": 7,
   "id": "ea088bcd-8020-45b5-ab2a-4409683c66bb",
   "metadata": {
    "execution": {
     "iopub.execute_input": "2024-06-25T12:40:48.108035Z",
     "iopub.status.busy": "2024-06-25T12:40:48.107416Z",
     "iopub.status.idle": "2024-06-25T12:40:49.779664Z",
     "shell.execute_reply": "2024-06-25T12:40:49.779099Z"
    },
    "vscode": {
     "languageId": "r"
    }
   },
   "outputs": [
    {
     "data": {
      "text/html": [
       "<table class=\"dataframe\">\n",
       "<caption>A data.table: 6 × 14</caption>\n",
       "<thead>\n",
       "\t<tr><th scope=col>date</th><th scope=col>year</th><th scope=col>epiweek</th><th scope=col>casos</th><th scope=col>geocode</th><th scope=col>regional</th><th scope=col>regional_geocode</th><th scope=col>macroregional</th><th scope=col>macroregional_geocode</th><th scope=col>uf</th><th scope=col>train_1</th><th scope=col>train_2</th><th scope=col>target_1</th><th scope=col>target_2</th></tr>\n",
       "\t<tr><th scope=col>&lt;IDate&gt;</th><th scope=col>&lt;int&gt;</th><th scope=col>&lt;int&gt;</th><th scope=col>&lt;int&gt;</th><th scope=col>&lt;int&gt;</th><th scope=col>&lt;chr&gt;</th><th scope=col>&lt;int&gt;</th><th scope=col>&lt;chr&gt;</th><th scope=col>&lt;int&gt;</th><th scope=col>&lt;chr&gt;</th><th scope=col>&lt;lgl&gt;</th><th scope=col>&lt;lgl&gt;</th><th scope=col>&lt;lgl&gt;</th><th scope=col>&lt;lgl&gt;</th></tr>\n",
       "</thead>\n",
       "<tbody>\n",
       "\t<tr><td>2024-06-02</td><td>2024</td><td>202423</td><td>0</td><td>2907202</td><td>Juazeiro           </td><td>29016</td><td>Norte       </td><td>2913</td><td>BA</td><td>FALSE</td><td>FALSE</td><td>FALSE</td><td>TRUE</td></tr>\n",
       "\t<tr><td>2024-06-02</td><td>2024</td><td>202423</td><td>0</td><td>2902401</td><td>Itabuna            </td><td>29012</td><td>Sul         </td><td>2910</td><td>BA</td><td>FALSE</td><td>FALSE</td><td>FALSE</td><td>TRUE</td></tr>\n",
       "\t<tr><td>2024-06-02</td><td>2024</td><td>202423</td><td>0</td><td>2903409</td><td>Porto Seguro       </td><td>29018</td><td>Extremo Sul </td><td>2916</td><td>BA</td><td>FALSE</td><td>FALSE</td><td>FALSE</td><td>TRUE</td></tr>\n",
       "\t<tr><td>2024-06-02</td><td>2024</td><td>202423</td><td>0</td><td>2904753</td><td>Ibotirama          </td><td>29008</td><td>Oeste       </td><td>2912</td><td>BA</td><td>FALSE</td><td>FALSE</td><td>FALSE</td><td>TRUE</td></tr>\n",
       "\t<tr><td>2024-06-02</td><td>2024</td><td>202423</td><td>0</td><td>2906907</td><td>Teixeira de Freitas</td><td>29026</td><td>Extremo Sul </td><td>2916</td><td>BA</td><td>FALSE</td><td>FALSE</td><td>FALSE</td><td>TRUE</td></tr>\n",
       "\t<tr><td>2024-06-02</td><td>2024</td><td>202423</td><td>0</td><td>2908903</td><td>Feira de Santana   </td><td>29006</td><td>Centro-Leste</td><td>2917</td><td>BA</td><td>FALSE</td><td>FALSE</td><td>FALSE</td><td>TRUE</td></tr>\n",
       "</tbody>\n",
       "</table>\n"
      ],
      "text/latex": [
       "A data.table: 6 × 14\n",
       "\\begin{tabular}{llllllllllllll}\n",
       " date & year & epiweek & casos & geocode & regional & regional\\_geocode & macroregional & macroregional\\_geocode & uf & train\\_1 & train\\_2 & target\\_1 & target\\_2\\\\\n",
       " <IDate> & <int> & <int> & <int> & <int> & <chr> & <int> & <chr> & <int> & <chr> & <lgl> & <lgl> & <lgl> & <lgl>\\\\\n",
       "\\hline\n",
       "\t 2024-06-02 & 2024 & 202423 & 0 & 2907202 & Juazeiro            & 29016 & Norte        & 2913 & BA & FALSE & FALSE & FALSE & TRUE\\\\\n",
       "\t 2024-06-02 & 2024 & 202423 & 0 & 2902401 & Itabuna             & 29012 & Sul          & 2910 & BA & FALSE & FALSE & FALSE & TRUE\\\\\n",
       "\t 2024-06-02 & 2024 & 202423 & 0 & 2903409 & Porto Seguro        & 29018 & Extremo Sul  & 2916 & BA & FALSE & FALSE & FALSE & TRUE\\\\\n",
       "\t 2024-06-02 & 2024 & 202423 & 0 & 2904753 & Ibotirama           & 29008 & Oeste        & 2912 & BA & FALSE & FALSE & FALSE & TRUE\\\\\n",
       "\t 2024-06-02 & 2024 & 202423 & 0 & 2906907 & Teixeira de Freitas & 29026 & Extremo Sul  & 2916 & BA & FALSE & FALSE & FALSE & TRUE\\\\\n",
       "\t 2024-06-02 & 2024 & 202423 & 0 & 2908903 & Feira de Santana    & 29006 & Centro-Leste & 2917 & BA & FALSE & FALSE & FALSE & TRUE\\\\\n",
       "\\end{tabular}\n"
      ],
      "text/markdown": [
       "\n",
       "A data.table: 6 × 14\n",
       "\n",
       "| date &lt;IDate&gt; | year &lt;int&gt; | epiweek &lt;int&gt; | casos &lt;int&gt; | geocode &lt;int&gt; | regional &lt;chr&gt; | regional_geocode &lt;int&gt; | macroregional &lt;chr&gt; | macroregional_geocode &lt;int&gt; | uf &lt;chr&gt; | train_1 &lt;lgl&gt; | train_2 &lt;lgl&gt; | target_1 &lt;lgl&gt; | target_2 &lt;lgl&gt; |\n",
       "|---|---|---|---|---|---|---|---|---|---|---|---|---|---|\n",
       "| 2024-06-02 | 2024 | 202423 | 0 | 2907202 | Juazeiro            | 29016 | Norte        | 2913 | BA | FALSE | FALSE | FALSE | TRUE |\n",
       "| 2024-06-02 | 2024 | 202423 | 0 | 2902401 | Itabuna             | 29012 | Sul          | 2910 | BA | FALSE | FALSE | FALSE | TRUE |\n",
       "| 2024-06-02 | 2024 | 202423 | 0 | 2903409 | Porto Seguro        | 29018 | Extremo Sul  | 2916 | BA | FALSE | FALSE | FALSE | TRUE |\n",
       "| 2024-06-02 | 2024 | 202423 | 0 | 2904753 | Ibotirama           | 29008 | Oeste        | 2912 | BA | FALSE | FALSE | FALSE | TRUE |\n",
       "| 2024-06-02 | 2024 | 202423 | 0 | 2906907 | Teixeira de Freitas | 29026 | Extremo Sul  | 2916 | BA | FALSE | FALSE | FALSE | TRUE |\n",
       "| 2024-06-02 | 2024 | 202423 | 0 | 2908903 | Feira de Santana    | 29006 | Centro-Leste | 2917 | BA | FALSE | FALSE | FALSE | TRUE |\n",
       "\n"
      ],
      "text/plain": [
       "  date       year epiweek casos geocode regional            regional_geocode\n",
       "1 2024-06-02 2024 202423  0     2907202 Juazeiro            29016           \n",
       "2 2024-06-02 2024 202423  0     2902401 Itabuna             29012           \n",
       "3 2024-06-02 2024 202423  0     2903409 Porto Seguro        29018           \n",
       "4 2024-06-02 2024 202423  0     2904753 Ibotirama           29008           \n",
       "5 2024-06-02 2024 202423  0     2906907 Teixeira de Freitas 29026           \n",
       "6 2024-06-02 2024 202423  0     2908903 Feira de Santana    29006           \n",
       "  macroregional macroregional_geocode uf train_1 train_2 target_1 target_2\n",
       "1 Norte         2913                  BA FALSE   FALSE   FALSE    TRUE    \n",
       "2 Sul           2910                  BA FALSE   FALSE   FALSE    TRUE    \n",
       "3 Extremo Sul   2916                  BA FALSE   FALSE   FALSE    TRUE    \n",
       "4 Oeste         2912                  BA FALSE   FALSE   FALSE    TRUE    \n",
       "5 Extremo Sul   2916                  BA FALSE   FALSE   FALSE    TRUE    \n",
       "6 Centro-Leste  2917                  BA FALSE   FALSE   FALSE    TRUE    "
      ]
     },
     "metadata": {},
     "output_type": "display_data"
    }
   ],
   "source": [
    "data = fread(\"dengue.csv.gz\")\n",
    "tail(data)"
   ]
  },
  {
   "cell_type": "code",
   "execution_count": null,
   "id": "88a6abc0-b9d3-49fe-929c-58c4df162314",
   "metadata": {},
   "outputs": [],
   "source": []
  },
  {
   "cell_type": "code",
   "execution_count": null,
   "id": "871fe976-7d55-4f10-8985-f872db8c55b1",
   "metadata": {},
   "outputs": [],
   "source": []
  },
  {
   "cell_type": "markdown",
   "id": "22a65b2d-e137-42cf-93e6-39831d6ac919",
   "metadata": {},
   "source": [
    "## Creating a simple Forecast model\n",
    "Let's for the sake of this example fit the dengue series for the state of Rio de Janeiro (UF=\"RJ\"). For this we need to aggregate the cases from all 92 municipalities of the state.\n",
    "\n",
    "The first challenge is to forecast 22/23 season using previous data. "
   ]
  },
  {
   "cell_type": "code",
   "execution_count": 9,
   "id": "ffb384ed-e8d1-4d35-8418-d3c17d56e9f2",
   "metadata": {
    "execution": {
     "iopub.execute_input": "2024-06-25T12:41:00.756034Z",
     "iopub.status.busy": "2024-06-25T12:41:00.755502Z",
     "iopub.status.idle": "2024-06-25T12:41:01.384365Z",
     "shell.execute_reply": "2024-06-25T12:41:01.383716Z"
    },
    "vscode": {
     "languageId": "r"
    }
   },
   "outputs": [
    {
     "name": "stderr",
     "output_type": "stream",
     "text": [
      "Registered S3 method overwritten by 'quantmod':\n",
      "  method            from\n",
      "  as.zoo.data.frame zoo \n",
      "\n",
      "── \u001b[1mAttaching core tidyverse packages\u001b[22m ───────────────────────────────────────────────────────────────────────────────────────────────────────────────────────────────────────────────────────────────────── tidyverse 2.0.0 ──\n",
      "\u001b[32m✔\u001b[39m \u001b[34mdplyr    \u001b[39m 1.1.4     \u001b[32m✔\u001b[39m \u001b[34mreadr    \u001b[39m 2.1.5\n",
      "\u001b[32m✔\u001b[39m \u001b[34mforcats  \u001b[39m 1.0.0     \u001b[32m✔\u001b[39m \u001b[34mstringr  \u001b[39m 1.5.1\n",
      "\u001b[32m✔\u001b[39m \u001b[34mggplot2  \u001b[39m 3.4.4     \u001b[32m✔\u001b[39m \u001b[34mtibble   \u001b[39m 3.2.1\n",
      "\u001b[32m✔\u001b[39m \u001b[34mlubridate\u001b[39m 1.9.3     \u001b[32m✔\u001b[39m \u001b[34mtidyr    \u001b[39m 1.3.1\n",
      "\u001b[32m✔\u001b[39m \u001b[34mpurrr    \u001b[39m 1.0.2     \n",
      "── \u001b[1mConflicts\u001b[22m ─────────────────────────────────────────────────────────────────────────────────────────────────────────────────────────────────────────────────────────────────────────────────────── tidyverse_conflicts() ──\n",
      "\u001b[31m✖\u001b[39m \u001b[34mdplyr\u001b[39m::\u001b[32mbetween()\u001b[39m     masks \u001b[34mdata.table\u001b[39m::between()\n",
      "\u001b[31m✖\u001b[39m \u001b[34mdplyr\u001b[39m::\u001b[32mfilter()\u001b[39m      masks \u001b[34mstats\u001b[39m::filter()\n",
      "\u001b[31m✖\u001b[39m \u001b[34mdplyr\u001b[39m::\u001b[32mfirst()\u001b[39m       masks \u001b[34mdata.table\u001b[39m::first()\n",
      "\u001b[31m✖\u001b[39m \u001b[34mlubridate\u001b[39m::\u001b[32mhour()\u001b[39m    masks \u001b[34mdata.table\u001b[39m::hour()\n",
      "\u001b[31m✖\u001b[39m \u001b[34mlubridate\u001b[39m::\u001b[32misoweek()\u001b[39m masks \u001b[34mdata.table\u001b[39m::isoweek()\n",
      "\u001b[31m✖\u001b[39m \u001b[34mdplyr\u001b[39m::\u001b[32mlag()\u001b[39m         masks \u001b[34mstats\u001b[39m::lag()\n",
      "\u001b[31m✖\u001b[39m \u001b[34mdplyr\u001b[39m::\u001b[32mlast()\u001b[39m        masks \u001b[34mdata.table\u001b[39m::last()\n",
      "\u001b[31m✖\u001b[39m \u001b[34mlubridate\u001b[39m::\u001b[32mmday()\u001b[39m    masks \u001b[34mdata.table\u001b[39m::mday()\n",
      "\u001b[31m✖\u001b[39m \u001b[34mlubridate\u001b[39m::\u001b[32mminute()\u001b[39m  masks \u001b[34mdata.table\u001b[39m::minute()\n",
      "\u001b[31m✖\u001b[39m \u001b[34mlubridate\u001b[39m::\u001b[32mmonth()\u001b[39m   masks \u001b[34mdata.table\u001b[39m::month()\n",
      "\u001b[31m✖\u001b[39m \u001b[34mlubridate\u001b[39m::\u001b[32mquarter()\u001b[39m masks \u001b[34mdata.table\u001b[39m::quarter()\n",
      "\u001b[31m✖\u001b[39m \u001b[34mlubridate\u001b[39m::\u001b[32msecond()\u001b[39m  masks \u001b[34mdata.table\u001b[39m::second()\n",
      "\u001b[31m✖\u001b[39m \u001b[34mpurrr\u001b[39m::\u001b[32mtranspose()\u001b[39m   masks \u001b[34mdata.table\u001b[39m::transpose()\n",
      "\u001b[31m✖\u001b[39m \u001b[34mlubridate\u001b[39m::\u001b[32mwday()\u001b[39m    masks \u001b[34mdata.table\u001b[39m::wday()\n",
      "\u001b[31m✖\u001b[39m \u001b[34mlubridate\u001b[39m::\u001b[32mweek()\u001b[39m    masks \u001b[34mdata.table\u001b[39m::week()\n",
      "\u001b[31m✖\u001b[39m \u001b[34mlubridate\u001b[39m::\u001b[32myday()\u001b[39m    masks \u001b[34mdata.table\u001b[39m::yday()\n",
      "\u001b[31m✖\u001b[39m \u001b[34mlubridate\u001b[39m::\u001b[32myear()\u001b[39m    masks \u001b[34mdata.table\u001b[39m::year()\n",
      "\u001b[36mℹ\u001b[39m Use the conflicted package (\u001b[3m\u001b[34m<http://conflicted.r-lib.org/>\u001b[39m\u001b[23m) to force all conflicts to become errors\n"
     ]
    }
   ],
   "source": [
    "library(forecast)\n",
    "library(tidyverse)"
   ]
  },
  {
   "cell_type": "markdown",
   "id": "9a42bbca-6a3c-4498-9046-82594f1906cc",
   "metadata": {},
   "source": [
    "Let's for the sake of this example let us fit the series for the state of Rio de Janeiro (UF=\"RJ\"). For this we need to aggregate the cases from all 92 municipalities of the state."
   ]
  },
  {
   "cell_type": "code",
   "execution_count": 10,
   "id": "2f8382b5-e4c3-43f4-b707-28e8b46529b4",
   "metadata": {
    "execution": {
     "iopub.execute_input": "2024-06-25T12:41:07.101422Z",
     "iopub.status.busy": "2024-06-25T12:41:07.100395Z",
     "iopub.status.idle": "2024-06-25T12:41:07.752527Z",
     "shell.execute_reply": "2024-06-25T12:41:07.751795Z"
    }
   },
   "outputs": [],
   "source": [
    "dRJ.train <- data %>%\n",
    "  filter(train_1) %>%\n",
    "  filter(uf == \"RJ\") %>% \n",
    "  group_by(date) %>% \n",
    "  summarize(casos=sum(casos)) %>% \n",
    "  arrange(date)"
   ]
  },
  {
   "cell_type": "code",
   "execution_count": 11,
   "id": "1e87666f-06a3-441d-b735-111ffca32965",
   "metadata": {
    "execution": {
     "iopub.execute_input": "2024-06-25T12:41:25.680205Z",
     "iopub.status.busy": "2024-06-25T12:41:25.679413Z",
     "iopub.status.idle": "2024-06-25T12:41:25.754912Z",
     "shell.execute_reply": "2024-06-25T12:41:25.753862Z"
    },
    "vscode": {
     "languageId": "r"
    }
   },
   "outputs": [],
   "source": [
    "dRJ.target <- data %>%\n",
    "  filter(target_1) %>%\n",
    "  filter(uf == \"RJ\") %>% \n",
    "  group_by(date) %>% \n",
    "  summarize(casos=sum(casos)) %>% \n",
    "  arrange(date)"
   ]
  },
  {
   "cell_type": "markdown",
   "id": "8623e669-7da0-47a7-a9a8-0b5cb04eacfc",
   "metadata": {
    "execution": {
     "iopub.execute_input": "2024-06-24T18:12:06.647560Z",
     "iopub.status.busy": "2024-06-24T18:12:06.646900Z",
     "iopub.status.idle": "2024-06-24T18:12:06.712795Z",
     "shell.execute_reply": "2024-06-24T18:12:06.711667Z"
    }
   },
   "source": [
    "First, creating time series objects"
   ]
  },
  {
   "cell_type": "code",
   "execution_count": 12,
   "id": "d92b68a3-fa6f-4ab3-bf9d-804f332f8b26",
   "metadata": {
    "execution": {
     "iopub.execute_input": "2024-06-25T12:42:27.295167Z",
     "iopub.status.busy": "2024-06-25T12:42:27.294224Z",
     "iopub.status.idle": "2024-06-25T12:42:27.302058Z",
     "shell.execute_reply": "2024-06-25T12:42:27.301423Z"
    },
    "vscode": {
     "languageId": "r"
    }
   },
   "outputs": [],
   "source": [
    "ts.train <- ts(dRJ.train$casos, start = c(2010, 01), frequency = 52)\n",
    "ts.target <- ts(dRJ.target$casos, start = c(2022, 41), frequency = 52)"
   ]
  },
  {
   "cell_type": "markdown",
   "id": "fc4d38db-f0f1-4ad9-8f0d-0227ecdd30cb",
   "metadata": {},
   "source": [
    "Plotting the challenge"
   ]
  },
  {
   "cell_type": "code",
   "execution_count": 13,
   "id": "8561c100-8c53-4278-b873-b5e4a8d8fd1f",
   "metadata": {
    "execution": {
     "iopub.execute_input": "2024-06-25T12:43:20.559965Z",
     "iopub.status.busy": "2024-06-25T12:43:20.559442Z",
     "iopub.status.idle": "2024-06-25T12:43:20.759290Z",
     "shell.execute_reply": "2024-06-25T12:43:20.758741Z"
    }
   },
   "outputs": [
    {
     "name": "stderr",
     "output_type": "stream",
     "text": [
      "Warning message in ggplot2::geom_line(na.rm = TRUE, ...):\n",
      "“\u001b[1m\u001b[22mIgnoring unknown parameters: `xlim`”\n",
      "\u001b[1m\u001b[22mScale for \u001b[32mx\u001b[39m is already present.\n",
      "Adding another scale for \u001b[32mx\u001b[39m, which will replace the existing scale.\n"
     ]
    },
    {
     "data": {
      "image/png": "[encoded data removed]",
      "text/plain": [
       "plot without title"
      ]
     },
     "metadata": {
      "image/png": {
       "height": 420,
       "width": 420
      }
     },
     "output_type": "display_data"
    }
   ],
   "source": [
    "autoplot(ts.train, colour=\"blue\", xlim = as.Date(c(\"2010-01-01\",\"2023-10-01\")))+\n",
    "  autolayer(ts.target)"
   ]
  },
  {
   "cell_type": "markdown",
   "id": "c1967a3a-4cc6-4c39-b549-d31561425cbd",
   "metadata": {},
   "source": [
    "Training the (very bad) arima model"
   ]
  },
  {
   "cell_type": "code",
   "execution_count": 14,
   "id": "565578ff-9de5-41b7-bb81-0ae69727f1c2",
   "metadata": {
    "execution": {
     "iopub.execute_input": "2024-06-25T12:45:28.756312Z",
     "iopub.status.busy": "2024-06-25T12:45:28.755710Z",
     "iopub.status.idle": "2024-06-25T12:45:29.912529Z",
     "shell.execute_reply": "2024-06-25T12:45:29.911925Z"
    }
   },
   "outputs": [
    {
     "data": {
      "text/plain": [
       "Series: ts.train \n",
       "ARIMA(3,1,5) \n",
       "\n",
       "Coefficients:\n",
       "         ar1     ar2      ar3      ma1      ma2     ma3     ma4      ma5\n",
       "      0.9075  0.7971  -0.7623  -0.3956  -1.1700  0.4827  0.3093  -0.2140\n",
       "s.e.  0.0563  0.0830   0.0511   0.0659   0.0696  0.0666  0.0452   0.0454\n",
       "\n",
       "sigma^2 = 259633:  log likelihood = -5086.06\n",
       "AIC=10190.12   AICc=10190.4   BIC=10230.62\n",
       "\n",
       "Training set error measures:\n",
       "                    ME    RMSE     MAE MPE MAPE      MASE        ACF1\n",
       "Training set -9.688523 506.087 231.999 NaN  Inf 0.1431837 0.003737839"
      ]
     },
     "metadata": {},
     "output_type": "display_data"
    }
   ],
   "source": [
    "fit.train = auto.arima(ts.train)\n",
    "summary(fit.train)"
   ]
  },
  {
   "cell_type": "code",
   "execution_count": 15,
   "id": "cac97cc4-cb0b-4eb3-a046-8eb0ba55a47c",
   "metadata": {
    "execution": {
     "iopub.execute_input": "2024-06-25T12:45:49.953059Z",
     "iopub.status.busy": "2024-06-25T12:45:49.952402Z",
     "iopub.status.idle": "2024-06-25T12:45:50.138839Z",
     "shell.execute_reply": "2024-06-25T12:45:50.138309Z"
    }
   },
   "outputs": [
    {
     "data": {
      "image/png": "[encoded data removed]",
      "text/plain": [
       "plot without title"
      ]
     },
     "metadata": {
      "image/png": {
       "height": 420,
       "width": 420
      }
     },
     "output_type": "display_data"
    }
   ],
   "source": [
    "autoplot(forecast(fit.train,h=52))+\n",
    "autolayer(ts.train) + \n",
    "  autolayer(ts.target)"
   ]
  },
  {
   "cell_type": "markdown",
   "id": "414c383c-fe60-4d5c-b30a-4bfa618785c9",
   "metadata": {},
   "source": [
    "## Preparing the output for uploading\n",
    "\n",
    "First, register your model in the platform. You will need to have your API key to perform this step. Check the README of this repository to learn how to find it."
   ]
  },
  {
   "cell_type": "code",
   "execution_count": 50,
   "id": "a001bc8b-f082-43d6-8e1d-17ab4b42ccc1",
   "metadata": {
    "execution": {
     "iopub.execute_input": "2024-06-25T14:19:52.502694Z",
     "iopub.status.busy": "2024-06-25T14:19:52.502088Z",
     "iopub.status.idle": "2024-06-25T14:19:53.464277Z",
     "shell.execute_reply": "2024-06-25T14:19:53.463558Z"
    }
   },
   "outputs": [
    {
     "data": {
      "text/plain": [
       "Response [https://api.mosqlimate.org/api/registry/models/]\n",
       "  Date: 2024-06-25 14:19\n",
       "  Status: 401\n",
       "  Content-Type: application/json; charset=utf-8\n",
       "  Size: 64 B\n"
      ]
     },
     "metadata": {},
     "output_type": "display_data"
    }
   ],
   "source": [
    "library(httr)\n",
    "url <- \"https://api.mosqlimate.org/api/registry/models/\"\n",
    "key = c(\"your key\")\n",
    "names(key) <- 'X-UID-Key'\n",
    "model <- list(\n",
    "    name = \"autoarima\",\n",
    "    description = \"demo\",\n",
    "    repository = \"https://github.com/Mosqlimate-project/sprint-template/\",\n",
    "    implementation_language = \"R\",\n",
    "    disease = \"dengue\",  \n",
    "    spatial = FALSE,\n",
    "    temporal = TRUE,\n",
    "    categorical = FALSE,\n",
    "    ADM_level = 1,\n",
    "    time_resolution = \"week\"\n",
    "  )\n",
    "response <- POST(url, body = model, add_headers(.headers=key),  encode = \"json\")\n",
    "response"
   ]
  },
  {
   "cell_type": "markdown",
   "id": "93df5e4b-b46f-4b89-b90d-d7f27868742c",
   "metadata": {},
   "source": [
    "This request failed with status 401, because I did not use my API key. But when you do it for real, with your model's details and your API key, you will get a successful POST with a 201 status."
   ]
  },
  {
   "cell_type": "markdown",
   "id": "7d5fab97-b56f-421b-a9ae-4afec05b7228",
   "metadata": {},
   "source": [
    "Now, to upload your prediction, you need: \n",
    "1. the id number of your model, see instructions in the GitHub README\n",
    "2. dataframe with the following columns: \n",
    "\n",
    "- date(YYYY-mm-dd): same used in the dataset\n",
    "- preds (num): point estimates\n",
    "- lower (num): 95% lower interval\n",
    "- upper (num): 95% upper interval\n",
    "- adm_1 (two letters string): UF code (example: \"RJ\")\n",
    "- adm_2: NA  \n",
    "- adm_3: NA"
   ]
  },
  {
   "cell_type": "code",
   "execution_count": 60,
   "id": "9fbc7ead-e51e-43f7-848d-7ab06e15dcf8",
   "metadata": {
    "execution": {
     "iopub.execute_input": "2024-06-25T14:34:49.856472Z",
     "iopub.status.busy": "2024-06-25T14:34:49.855881Z",
     "iopub.status.idle": "2024-06-25T14:34:49.872340Z",
     "shell.execute_reply": "2024-06-25T14:34:49.871712Z"
    }
   },
   "outputs": [
    {
     "data": {
      "text/html": [
       "<table class=\"dataframe\">\n",
       "<caption>A data.frame: 6 × 7</caption>\n",
       "<thead>\n",
       "\t<tr><th></th><th scope=col>dates</th><th scope=col>preds</th><th scope=col>lower</th><th scope=col>upper</th><th scope=col>adm_1</th><th scope=col>adm_2</th><th scope=col>adm_0</th></tr>\n",
       "\t<tr><th></th><th scope=col>&lt;date&gt;</th><th scope=col>&lt;dbl&gt;</th><th scope=col>&lt;dbl&gt;</th><th scope=col>&lt;dbl&gt;</th><th scope=col>&lt;chr&gt;</th><th scope=col>&lt;lgl&gt;</th><th scope=col>&lt;lgl&gt;</th></tr>\n",
       "</thead>\n",
       "<tbody>\n",
       "\t<tr><th scope=row>1</th><td>2022-10-22</td><td> 12.99305</td><td> -985.6901</td><td>1011.676</td><td>RJ</td><td>NA</td><td>NA</td></tr>\n",
       "\t<tr><th scope=row>2</th><td>2022-10-29</td><td> 28.33185</td><td>-1781.9574</td><td>1838.621</td><td>RJ</td><td>NA</td><td>NA</td></tr>\n",
       "\t<tr><th scope=row>3</th><td>2022-11-05</td><td> 44.00407</td><td>-2372.9138</td><td>2460.922</td><td>RJ</td><td>NA</td><td>NA</td></tr>\n",
       "\t<tr><th scope=row>4</th><td>2022-11-12</td><td> 62.41854</td><td>-2958.6652</td><td>3083.502</td><td>RJ</td><td>NA</td><td>NA</td></tr>\n",
       "\t<tr><th scope=row>5</th><td>2022-11-20</td><td> 81.46505</td><td>-3539.6309</td><td>3702.561</td><td>RJ</td><td>NA</td><td>NA</td></tr>\n",
       "\t<tr><th scope=row>6</th><td>2022-11-26</td><td>101.47882</td><td>-4058.6475</td><td>4261.605</td><td>RJ</td><td>NA</td><td>NA</td></tr>\n",
       "</tbody>\n",
       "</table>\n"
      ],
      "text/latex": [
       "A data.frame: 6 × 7\n",
       "\\begin{tabular}{r|lllllll}\n",
       "  & dates & preds & lower & upper & adm\\_1 & adm\\_2 & adm\\_0\\\\\n",
       "  & <date> & <dbl> & <dbl> & <dbl> & <chr> & <lgl> & <lgl>\\\\\n",
       "\\hline\n",
       "\t1 & 2022-10-22 &  12.99305 &  -985.6901 & 1011.676 & RJ & NA & NA\\\\\n",
       "\t2 & 2022-10-29 &  28.33185 & -1781.9574 & 1838.621 & RJ & NA & NA\\\\\n",
       "\t3 & 2022-11-05 &  44.00407 & -2372.9138 & 2460.922 & RJ & NA & NA\\\\\n",
       "\t4 & 2022-11-12 &  62.41854 & -2958.6652 & 3083.502 & RJ & NA & NA\\\\\n",
       "\t5 & 2022-11-20 &  81.46505 & -3539.6309 & 3702.561 & RJ & NA & NA\\\\\n",
       "\t6 & 2022-11-26 & 101.47882 & -4058.6475 & 4261.605 & RJ & NA & NA\\\\\n",
       "\\end{tabular}\n"
      ],
      "text/markdown": [
       "\n",
       "A data.frame: 6 × 7\n",
       "\n",
       "| <!--/--> | dates &lt;date&gt; | preds &lt;dbl&gt; | lower &lt;dbl&gt; | upper &lt;dbl&gt; | adm_1 &lt;chr&gt; | adm_2 &lt;lgl&gt; | adm_0 &lt;lgl&gt; |\n",
       "|---|---|---|---|---|---|---|---|\n",
       "| 1 | 2022-10-22 |  12.99305 |  -985.6901 | 1011.676 | RJ | NA | NA |\n",
       "| 2 | 2022-10-29 |  28.33185 | -1781.9574 | 1838.621 | RJ | NA | NA |\n",
       "| 3 | 2022-11-05 |  44.00407 | -2372.9138 | 2460.922 | RJ | NA | NA |\n",
       "| 4 | 2022-11-12 |  62.41854 | -2958.6652 | 3083.502 | RJ | NA | NA |\n",
       "| 5 | 2022-11-20 |  81.46505 | -3539.6309 | 3702.561 | RJ | NA | NA |\n",
       "| 6 | 2022-11-26 | 101.47882 | -4058.6475 | 4261.605 | RJ | NA | NA |\n",
       "\n"
      ],
      "text/plain": [
       "  dates      preds     lower      upper    adm_1 adm_2 adm_0\n",
       "1 2022-10-22  12.99305  -985.6901 1011.676 RJ    NA    NA   \n",
       "2 2022-10-29  28.33185 -1781.9574 1838.621 RJ    NA    NA   \n",
       "3 2022-11-05  44.00407 -2372.9138 2460.922 RJ    NA    NA   \n",
       "4 2022-11-12  62.41854 -2958.6652 3083.502 RJ    NA    NA   \n",
       "5 2022-11-20  81.46505 -3539.6309 3702.561 RJ    NA    NA   \n",
       "6 2022-11-26 101.47882 -4058.6475 4261.605 RJ    NA    NA   "
      ]
     },
     "metadata": {},
     "output_type": "display_data"
    }
   ],
   "source": [
    "uf = \"RJ\"  # change that accordingly to your data\n",
    "x <- data.frame(forecast(fit.train,h=52))[,c(\"Point.Forecast\",\"Lo.95\",\"Hi.95\")] \n",
    "x <- x %>%\n",
    "  mutate(dates = as.Date(date_decimal(as.numeric(row.names(x)))),\n",
    "         adm_1 = uf, \n",
    "         adm_2 = NA,\n",
    "         adm_0 = NA) %>%\n",
    "  select(dates, \n",
    "         preds = Point.Forecast,\n",
    "         lower = Lo.95,\n",
    "         upper = Hi.95,\n",
    "         adm_1,\n",
    "         adm_2,\n",
    "         adm_0) %>%\n",
    "  remove_rownames()\n",
    "\n",
    "head(x)"
   ]
  },
  {
   "cell_type": "markdown",
   "id": "98b0dc88-1136-4d79-b546-795b71d14500",
   "metadata": {},
   "source": [
    "Converting to JSON"
   ]
  },
  {
   "cell_type": "code",
   "execution_count": 21,
   "id": "23565357-ad35-46b9-8097-e2a1dc14aef4",
   "metadata": {
    "execution": {
     "iopub.execute_input": "2024-06-25T13:16:28.295792Z",
     "iopub.status.busy": "2024-06-25T13:16:28.294985Z",
     "iopub.status.idle": "2024-06-25T13:16:28.316062Z",
     "shell.execute_reply": "2024-06-25T13:16:28.315505Z"
    }
   },
   "outputs": [
    {
     "data": {
      "text/plain": [
       "[{\"dates\":\"2022-10-22\",\"preds\":12.9931,\"lower\":-985.6901,\"upper\":1011.6762,\"adm_1\":\"RJ\"},{\"dates\":\"2022-10-29\",\"preds\":28.3319,\"lower\":-1781.9574,\"upper\":1838.6211,\"adm_1\":\"RJ\"},{\"dates\":\"2022-11-05\",\"preds\":44.0041,\"lower\":-2372.9138,\"upper\":2460.922,\"adm_1\":\"RJ\"},{\"dates\":\"2022-11-12\",\"preds\":62.4185,\"lower\":-2958.6652,\"upper\":3083.5023,\"adm_1\":\"RJ\"},{\"dates\":\"2022-11-20\",\"preds\":81.465,\"lower\":-3539.6309,\"upper\":3702.561,\"adm_1\":\"RJ\"},{\"dates\":\"2022-11-26\",\"preds\":101.4788,\"lower\":-4058.6475,\"upper\":4261.6052,\"adm_1\":\"RJ\"},{\"dates\":\"2022-12-03\",\"preds\":120.7836,\"lower\":-4530.4955,\"upper\":4772.0627,\"adm_1\":\"RJ\"},{\"dates\":\"2022-12-10\",\"preds\":139.7341,\"lower\":-4927.5599,\"upper\":5207.0281,\"adm_1\":\"RJ\"},{\"dates\":\"2022-12-18\",\"preds\":157.0606,\"lower\":-5266.7497,\"upper\":5580.871,\"adm_1\":\"RJ\"},{\"dates\":\"2022-12-25\",\"preds\":173.1716,\"lower\":-5536.5669,\"upper\":5882.9101,\"adm_1\":\"RJ\"},{\"dates\":\"2023-01-01\",\"preds\":187.1551,\"lower\":-5753.4881,\"upper\":6127.7984,\"adm_1\":\"RJ\"},{\"dates\":\"2023-01-07\",\"preds\":199.4773,\"lower\":-5915.2321,\"upper\":6314.1866,\"adm_1\":\"RJ\"},{\"dates\":\"2023-01-14\",\"preds\":209.5227,\"lower\":-6036.5192,\"upper\":6455.5647,\"adm_1\":\"RJ\"},{\"dates\":\"2023-01-22\",\"preds\":217.7998,\"lower\":-6119.7207,\"upper\":6555.3202,\"adm_1\":\"RJ\"},{\"dates\":\"2023-01-29\",\"preds\":223.924,\"lower\":-6176.8011,\"upper\":6624.649,\"adm_1\":\"RJ\"},{\"dates\":\"2023-02-05\",\"preds\":228.4207,\"lower\":-6211.6229,\"upper\":6668.4643,\"adm_1\":\"RJ\"},{\"dates\":\"2023-02-11\",\"preds\":231.0726,\"lower\":-6232.7992,\"upper\":6694.9444,\"adm_1\":\"RJ\"},{\"dates\":\"2023-02-19\",\"preds\":232.3946,\"lower\":-6243.7156,\"upper\":6708.5047,\"adm_1\":\"RJ\"},{\"dates\":\"2023-02-26\",\"preds\":232.2799,\"lower\":-6249.6182,\"upper\":6714.178,\"adm_1\":\"RJ\"},{\"dates\":\"2023-03-05\",\"preds\":231.2078,\"lower\":-6252.5536,\"upper\":6714.9691,\"adm_1\":\"RJ\"},{\"dates\":\"2023-03-12\",\"preds\":229.1357,\"lower\":-6254.9864,\"upper\":6713.2578,\"adm_1\":\"RJ\"},{\"dates\":\"2023-03-19\",\"preds\":226.4882,\"lower\":-6257.6422,\"upper\":6710.6186,\"adm_1\":\"RJ\"},{\"dates\":\"2023-03-26\",\"preds\":223.2515,\"lower\":-6261.1652,\"upper\":6707.6683,\"adm_1\":\"RJ\"},{\"dates\":\"2023-04-02\",\"preds\":219.7838,\"lower\":-6265.4552,\"upper\":6705.0228,\"adm_1\":\"RJ\"},{\"dates\":\"2023-04-09\",\"preds\":216.0754,\"lower\":-6270.3097,\"upper\":6702.4605,\"adm_1\":\"RJ\"},{\"dates\":\"2023-04-16\",\"preds\":212.4136,\"lower\":-6275.3566,\"upper\":6700.1838,\"adm_1\":\"RJ\"},{\"dates\":\"2023-04-23\",\"preds\":208.7785,\"lower\":-6280.2477,\"upper\":6697.8046,\"adm_1\":\"RJ\"},{\"dates\":\"2023-04-30\",\"preds\":205.3882,\"lower\":-6284.6981,\"upper\":6695.4745,\"adm_1\":\"RJ\"},{\"dates\":\"2023-05-07\",\"preds\":202.2058,\"lower\":-6288.5548,\"upper\":6692.9663,\"adm_1\":\"RJ\"},{\"dates\":\"2023-05-14\",\"preds\":199.3868,\"lower\":-6291.7366,\"upper\":6690.5101,\"adm_1\":\"RJ\"},{\"dates\":\"2023-05-21\",\"preds\":196.8766,\"lower\":-6294.341,\"upper\":6688.0942,\"adm_1\":\"RJ\"},{\"dates\":\"2023-05-28\",\"preds\":194.778,\"lower\":-6296.4402,\"upper\":6685.9961,\"adm_1\":\"RJ\"},{\"dates\":\"2023-06-04\",\"preds\":193.0218,\"lower\":-6298.2878,\"upper\":6684.3315,\"adm_1\":\"RJ\"},{\"dates\":\"2023-06-11\",\"preds\":191.6691,\"lower\":-6299.9994,\"upper\":6683.3375,\"adm_1\":\"RJ\"},{\"dates\":\"2023-06-18\",\"preds\":190.6416,\"lower\":-6301.858,\"upper\":6683.1412,\"adm_1\":\"RJ\"},{\"dates\":\"2023-06-25\",\"preds\":189.9698,\"lower\":-6303.9301,\"upper\":6683.8697,\"adm_1\":\"RJ\"},{\"dates\":\"2023-07-02\",\"preds\":189.5725,\"lower\":-6306.4383,\"upper\":6685.5832,\"adm_1\":\"RJ\"},{\"dates\":\"2023-07-09\",\"preds\":189.4597,\"lower\":-6309.3584,\"upper\":6688.2778,\"adm_1\":\"RJ\"},{\"dates\":\"2023-07-16\",\"preds\":189.5529,\"lower\":-6312.8191,\"upper\":6691.9248,\"adm_1\":\"RJ\"},{\"dates\":\"2023-07-23\",\"preds\":189.8504,\"lower\":-6316.713,\"upper\":6696.4138,\"adm_1\":\"RJ\"},{\"dates\":\"2023-07-30\",\"preds\":190.2807,\"lower\":-6321.0865,\"upper\":6701.6478,\"adm_1\":\"RJ\"},{\"dates\":\"2023-08-06\",\"preds\":190.8372,\"lower\":-6325.7839,\"upper\":6707.4583,\"adm_1\":\"RJ\"},{\"dates\":\"2023-08-13\",\"preds\":191.4584,\"lower\":-6330.8022,\"upper\":6713.7189,\"adm_1\":\"RJ\"},{\"dates\":\"2023-08-20\",\"preds\":192.1377,\"lower\":-6335.9775,\"upper\":6720.2529,\"adm_1\":\"RJ\"},{\"dates\":\"2023-08-27\",\"preds\":192.8249,\"lower\":-6341.291,\"upper\":6726.9408,\"adm_1\":\"RJ\"},{\"dates\":\"2023-09-03\",\"preds\":193.5165,\"lower\":-6346.6004,\"upper\":6733.6333,\"adm_1\":\"RJ\"},{\"dates\":\"2023-09-10\",\"preds\":194.1739,\"lower\":-6351.8937,\"upper\":6740.2415,\"adm_1\":\"RJ\"},{\"dates\":\"2023-09-17\",\"preds\":194.7979,\"lower\":-6357.0648,\"upper\":6746.6605,\"adm_1\":\"RJ\"},{\"dates\":\"2023-09-24\",\"preds\":195.3609,\"lower\":-6362.1184,\"upper\":6752.8401,\"adm_1\":\"RJ\"},{\"dates\":\"2023-10-01\",\"preds\":195.8679,\"lower\":-6366.9856,\"upper\":6758.7213,\"adm_1\":\"RJ\"},{\"dates\":\"2023-10-08\",\"preds\":196.3011,\"lower\":-6371.6872,\"upper\":6764.2894,\"adm_1\":\"RJ\"},{\"dates\":\"2023-10-15\",\"preds\":196.6691,\"lower\":-6376.1852,\"upper\":6769.5235,\"adm_1\":\"RJ\"}] "
      ]
     },
     "metadata": {},
     "output_type": "display_data"
    }
   ],
   "source": [
    "library(jsonlite)\n",
    "\n",
    "y <- toJSON(x)\n",
    "y"
   ]
  },
  {
   "cell_type": "code",
   "execution_count": 54,
   "id": "75f4c1f0-13ad-4f7e-94f4-f1f5389444f7",
   "metadata": {
    "execution": {
     "iopub.execute_input": "2024-06-25T14:30:57.958326Z",
     "iopub.status.busy": "2024-06-25T14:30:57.957574Z",
     "iopub.status.idle": "2024-06-25T14:30:57.963581Z",
     "shell.execute_reply": "2024-06-25T14:30:57.962769Z"
    }
   },
   "outputs": [],
   "source": [
    "json = import(\"json\")"
   ]
  },
  {
   "cell_type": "markdown",
   "id": "b167fa4e-c1fd-4684-8966-de9f1c2994a6",
   "metadata": {},
   "source": [
    "Now, to upload the prediction we will use the `mosqlient` library to handle the POST, instead of the way we did for the model's registration. This will make things substantially easier. For this step you need your *model's id number* found in your profile page in the mosqlimate API website, and collect the commit number of the version of the code at the time of the prediction's generation. "
   ]
  },
  {
   "cell_type": "code",
   "execution_count": 61,
   "id": "0316dcfb-20f7-4391-a644-10da30e8974d",
   "metadata": {
    "execution": {
     "iopub.execute_input": "2024-06-25T14:34:56.533486Z",
     "iopub.status.busy": "2024-06-25T14:34:56.532902Z",
     "iopub.status.idle": "2024-06-25T14:34:57.306356Z",
     "shell.execute_reply": "2024-06-25T14:34:57.305613Z"
    }
   },
   "outputs": [
    {
     "ename": "ERROR",
     "evalue": "Object of type DataFrame is not JSON serializable",
     "output_type": "error",
     "traceback": [
      "Object of type DataFrame is not JSON serializableTraceback:\n",
      "1. mosq$upload_prediction(model_id = 15, description = \"arima forecast for RJ\", \n .     commit = \"505d1b01a5d9ae59a62e635224244c93eef1a466\", predict_date = \"2024-06-25\", \n .     prediction = x, api_key = \"fccoelho:ec29c3d0-9bf0-4e70-8eaa-5ee26b33a0d9\")",
      "2. py_call_impl(callable, call_args$unnamed, call_args$named)"
     ]
    }
   ],
   "source": [
    "mosq$upload_prediction(\n",
    "    model_id=15,\n",
    "    description=\"arima forecast for RJ\",\n",
    "    commit=\"505d1b01a5d9ae59a62e635224244c93eef1a466\",\n",
    "    predict_date=\"2024-06-25\",\n",
    "    prediction=x,\n",
    "    api_key=\"your key\"\n",
    ")"
   ]
  },
  {
   "cell_type": "code",
   "execution_count": null,
   "id": "5a1e8d7d-7f85-4d92-bcd2-8d338ee684d2",
   "metadata": {},
   "outputs": [],
   "source": []
  }
 ],
 "metadata": {
  "kernelspec": {
   "display_name": "R",
   "language": "R",
   "name": "ir"
  },
  "language_info": {
   "codemirror_mode": "r",
   "file_extension": ".r",
   "mimetype": "text/x-r-source",
   "name": "R",
   "pygments_lexer": "r",
   "version": "4.3.3"
  }
 },
 "nbformat": 4,
 "nbformat_minor": 5
}
