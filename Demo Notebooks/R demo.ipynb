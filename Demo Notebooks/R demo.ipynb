{
 "cells": [
  {
   "cell_type": "markdown",
   "id": "2d8c1699-1dc7-4c3d-94af-c021eef8a6ee",
   "metadata": {},
   "source": [
    "# Creating a simple forecasting model\n",
    "Before we can use mosqlient, we need to install the reticulate library in R. If you already have it installed, you can skip the cell below."
   ]
  },
  {
   "cell_type": "code",
   "execution_count": 1,
   "id": "2ad0f452-3e6f-4002-8ad9-73d5a6e02e06",
   "metadata": {
    "execution": {
     "iopub.execute_input": "2024-06-17T18:43:57.499264Z",
     "iopub.status.busy": "2024-06-17T18:43:57.498115Z",
     "iopub.status.idle": "2024-06-17T18:44:45.684008Z",
     "shell.execute_reply": "2024-06-17T18:44:45.683387Z"
    }
   },
   "outputs": [
    {
     "name": "stderr",
     "output_type": "stream",
     "text": [
      "Installing package into ‘/home/fccoelho/R/x86_64-pc-linux-gnu-library/4.3’\n",
      "(as ‘lib’ is unspecified)\n",
      "\n",
      "\u001b[33m!\u001b[39m Using bundled GitHub PAT. Please add your own PAT using `gitcreds::gitcreds_set()`.\n",
      "\n",
      "\n",
      "\u001b[32m✔\u001b[39m Updated metadata database: 1.38 MB in 1 file.\n",
      "\n",
      "\n",
      "\u001b[36mℹ\u001b[39m Updating metadata database\n",
      "\u001b[32m✔\u001b[39m Updating metadata database ... done\n",
      "\n",
      "\n",
      " \n",
      "\n",
      "\u001b[32m✔\u001b[39m All system requirements are already installed.\n",
      "\n",
      "  \n",
      "\n",
      "\u001b[36mℹ\u001b[39m No downloads are needed\n",
      "\n",
      "\u001b[32m✔\u001b[39m 1 pkg + 11 deps: kept 10 \u001b[90m\u001b[90m[4.8s]\u001b[90m\u001b[39m\n",
      "\n"
     ]
    }
   ],
   "source": [
    "install.packages('pak')\n",
    "library(pak)\n",
    "pak::pak(\"rstudio/reticulate\")"
   ]
  },
  {
   "cell_type": "code",
   "execution_count": 1,
   "id": "124806c7-1023-4ee7-8acf-7207c555f6bf",
   "metadata": {
    "execution": {
     "iopub.execute_input": "2024-06-18T16:10:28.570135Z",
     "iopub.status.busy": "2024-06-18T16:10:28.568948Z",
     "iopub.status.idle": "2024-06-18T16:10:29.033167Z",
     "shell.execute_reply": "2024-06-18T16:10:29.032536Z"
    }
   },
   "outputs": [],
   "source": [
    "library(reticulate)"
   ]
  },
  {
   "cell_type": "markdown",
   "id": "527e0394-6407-4a74-9393-3d265a92bd0e",
   "metadata": {},
   "source": [
    "## Installing Mosqlient"
   ]
  },
  {
   "cell_type": "code",
   "execution_count": 2,
   "id": "b7e9569c-7f8a-4fe8-bf5e-57d8d6528704",
   "metadata": {
    "execution": {
     "iopub.execute_input": "2024-06-18T16:10:30.703907Z",
     "iopub.status.busy": "2024-06-18T16:10:30.688817Z",
     "iopub.status.idle": "2024-06-18T16:10:31.194290Z",
     "shell.execute_reply": "2024-06-18T16:10:31.193583Z"
    }
   },
   "outputs": [
    {
     "name": "stdout",
     "output_type": "stream",
     "text": [
      "Using virtual environment 'r-reticulate' ...\n"
     ]
    },
    {
     "name": "stderr",
     "output_type": "stream",
     "text": [
      "+ /home/fccoelho/.virtualenvs/r-reticulate/bin/python -m pip install --upgrade --no-user 'mosqlient>=1.2.2'\n",
      "\n"
     ]
    }
   ],
   "source": [
    "py_install(\"mosqlient>=1.2.2\", envname='r-reticulate')"
   ]
  },
  {
   "cell_type": "code",
   "execution_count": 3,
   "id": "459ad639-b349-4aba-936b-c842cf576766",
   "metadata": {
    "execution": {
     "iopub.execute_input": "2024-06-18T16:10:37.529681Z",
     "iopub.status.busy": "2024-06-18T16:10:37.529093Z",
     "iopub.status.idle": "2024-06-18T16:10:38.135921Z",
     "shell.execute_reply": "2024-06-18T16:10:38.135106Z"
    }
   },
   "outputs": [],
   "source": [
    "mosq <- import(\"mosqlient\")"
   ]
  },
  {
   "cell_type": "code",
   "execution_count": 4,
   "id": "49793739-dff6-4e4e-8bf7-933ab4c768c7",
   "metadata": {
    "execution": {
     "iopub.execute_input": "2024-06-18T16:10:38.169801Z",
     "iopub.status.busy": "2024-06-18T16:10:38.169108Z",
     "iopub.status.idle": "2024-06-18T16:10:38.175455Z",
     "shell.execute_reply": "2024-06-18T16:10:38.174935Z"
    }
   },
   "outputs": [
    {
     "data": {
      "text/html": [
       "'1.2.1'"
      ],
      "text/latex": [
       "'1.2.1'"
      ],
      "text/markdown": [
       "'1.2.1'"
      ],
      "text/plain": [
       "[1] \"1.2.1\""
      ]
     },
     "metadata": {},
     "output_type": "display_data"
    }
   ],
   "source": [
    "mosq$version"
   ]
  },
  {
   "cell_type": "markdown",
   "id": "f99cf40b-d1c9-435a-a5ec-27ebff0c4aa2",
   "metadata": {},
   "source": [
    "## Downloading the Dengue dataset\n",
    "Here we will build a simple univariate model using only dengue cases. We could use the Mosqlient library to fetch the data straight from the API, but instead we will download the prepared datasets made available by the sprint organizers. For this you can go to [info.dengue.mat.br/minio](https://info.dengue.mat.br/minio), and download the infodengue dataset. This dataset is a gzip compressed csv file called `infodengue.csv.gv` and save it in the same directory as this notebook."
   ]
  },
  {
   "cell_type": "code",
   "execution_count": 21,
   "id": "f0d6f9b9-5cb3-4685-947b-52dd16c0896b",
   "metadata": {
    "execution": {
     "iopub.execute_input": "2024-06-18T17:10:53.157446Z",
     "iopub.status.busy": "2024-06-18T17:10:53.156787Z",
     "iopub.status.idle": "2024-06-18T17:10:53.200293Z",
     "shell.execute_reply": "2024-06-18T17:10:53.199545Z"
    }
   },
   "outputs": [],
   "source": [
    "library(data.table)"
   ]
  },
  {
   "cell_type": "code",
   "execution_count": 22,
   "id": "ea088bcd-8020-45b5-ab2a-4409683c66bb",
   "metadata": {
    "execution": {
     "iopub.execute_input": "2024-06-18T17:11:28.345627Z",
     "iopub.status.busy": "2024-06-18T17:11:28.345032Z",
     "iopub.status.idle": "2024-06-18T17:11:30.584309Z",
     "shell.execute_reply": "2024-06-18T17:11:30.583707Z"
    }
   },
   "outputs": [
    {
     "data": {
      "text/html": [
       "<table class=\"dataframe\">\n",
       "<caption>A data.table: 4188627 × 12</caption>\n",
       "<thead>\n",
       "\t<tr><th scope=col>V1</th><th scope=col>SE</th><th scope=col>geocode</th><th scope=col>casos</th><th scope=col>casprov</th><th scope=col>Rt</th><th scope=col>p_rt1</th><th scope=col>regional</th><th scope=col>regional_geocode</th><th scope=col>macroregional</th><th scope=col>macroregional_geocode</th><th scope=col>uf</th></tr>\n",
       "\t<tr><th scope=col>&lt;int&gt;</th><th scope=col>&lt;int&gt;</th><th scope=col>&lt;int&gt;</th><th scope=col>&lt;int&gt;</th><th scope=col>&lt;dbl&gt;</th><th scope=col>&lt;dbl&gt;</th><th scope=col>&lt;dbl&gt;</th><th scope=col>&lt;chr&gt;</th><th scope=col>&lt;dbl&gt;</th><th scope=col>&lt;chr&gt;</th><th scope=col>&lt;dbl&gt;</th><th scope=col>&lt;chr&gt;</th></tr>\n",
       "</thead>\n",
       "<tbody>\n",
       "\t<tr><td> 0</td><td>201001</td><td>4208450</td><td>0</td><td>NA</td><td>0</td><td>0</td><td>Nordeste                               </td><td>42011</td><td>Planalto Norte e Nordeste     </td><td>4211</td><td>SC</td></tr>\n",
       "\t<tr><td> 1</td><td>201001</td><td>4216206</td><td>0</td><td>NA</td><td>0</td><td>0</td><td>Nordeste                               </td><td>42011</td><td>Planalto Norte e Nordeste     </td><td>4211</td><td>SC</td></tr>\n",
       "\t<tr><td> 2</td><td>201001</td><td>4218509</td><td>0</td><td>NA</td><td>0</td><td>0</td><td>Meio Oeste                             </td><td>42008</td><td>Meio Oeste e Serra Catarinense</td><td>4212</td><td>SC</td></tr>\n",
       "\t<tr><td> 3</td><td>201001</td><td>4216404</td><td>0</td><td>NA</td><td>0</td><td>0</td><td>Extremo Sul Catarinense                </td><td>42014</td><td>Sul                           </td><td>4210</td><td>SC</td></tr>\n",
       "\t<tr><td> 4</td><td>201001</td><td>4201307</td><td>0</td><td>NA</td><td>0</td><td>0</td><td>Nordeste                               </td><td>42011</td><td>Planalto Norte e Nordeste     </td><td>4211</td><td>SC</td></tr>\n",
       "\t<tr><td> 5</td><td>201001</td><td>4204178</td><td>0</td><td>NA</td><td>0</td><td>0</td><td>Serra Catarinense                      </td><td>42013</td><td>Meio Oeste e Serra Catarinense</td><td>4212</td><td>SC</td></tr>\n",
       "\t<tr><td> 6</td><td>201001</td><td>4219358</td><td>0</td><td>NA</td><td>0</td><td>0</td><td>Alto Vale do Itajaí                    </td><td>42004</td><td>Alto Vale do Itajaí           </td><td>4216</td><td>SC</td></tr>\n",
       "\t<tr><td> 7</td><td>201001</td><td>4206405</td><td>0</td><td>NA</td><td>0</td><td>0</td><td>Extremo Oeste                          </td><td>42001</td><td>Grande Oeste                  </td><td>4213</td><td>SC</td></tr>\n",
       "\t<tr><td> 8</td><td>201001</td><td>4207700</td><td>0</td><td>NA</td><td>0</td><td>0</td><td>Alto Uruguai Catarinense               </td><td>42010</td><td>Meio Oeste e Serra Catarinense</td><td>4212</td><td>SC</td></tr>\n",
       "\t<tr><td> 9</td><td>201001</td><td>4203907</td><td>0</td><td>NA</td><td>0</td><td>0</td><td>Meio Oeste                             </td><td>42008</td><td>Meio Oeste e Serra Catarinense</td><td>4212</td><td>SC</td></tr>\n",
       "\t<tr><td>10</td><td>201001</td><td>4205555</td><td>0</td><td>NA</td><td>0</td><td>0</td><td>Alto Vale do Rio do Peixe              </td><td>42009</td><td>Meio Oeste e Serra Catarinense</td><td>4212</td><td>SC</td></tr>\n",
       "\t<tr><td>11</td><td>201001</td><td>4215679</td><td>0</td><td>NA</td><td>0</td><td>0</td><td>Alto Vale do Itajaí                    </td><td>42004</td><td>Alto Vale do Itajaí           </td><td>4216</td><td>SC</td></tr>\n",
       "\t<tr><td>12</td><td>201001</td><td>4215109</td><td>0</td><td>NA</td><td>0</td><td>0</td><td>Médio Vale do Itajaí                   </td><td>42006</td><td>Alto Vale do Itajaí           </td><td>4216</td><td>SC</td></tr>\n",
       "\t<tr><td>13</td><td>201001</td><td>4316972</td><td>0</td><td>NA</td><td>0</td><td>0</td><td>Região 03 - Fronteira Oeste            </td><td>43003</td><td>Centro-oeste                  </td><td>4314</td><td>RS</td></tr>\n",
       "\t<tr><td>14</td><td>201001</td><td>4307203</td><td>0</td><td>NA</td><td>0</td><td>0</td><td>Região 16 - Alto Uruguai Gaúcho        </td><td>43016</td><td>Norte                         </td><td>4311</td><td>RS</td></tr>\n",
       "\t<tr><td>15</td><td>201001</td><td>4322905</td><td>0</td><td>NA</td><td>0</td><td>0</td><td>Região 16 - Alto Uruguai Gaúcho        </td><td>43016</td><td>Norte                         </td><td>4311</td><td>RS</td></tr>\n",
       "\t<tr><td>16</td><td>201001</td><td>4319901</td><td>0</td><td>NA</td><td>0</td><td>0</td><td>Região 07 - Vale dos Sinos             </td><td>43007</td><td>Metropolitana                 </td><td>4313</td><td>RS</td></tr>\n",
       "\t<tr><td>17</td><td>201001</td><td>4319356</td><td>0</td><td>NA</td><td>0</td><td>0</td><td>Região 08 - Vale do Caí e Metropolitana</td><td>43008</td><td>Metropolitana                 </td><td>4313</td><td>RS</td></tr>\n",
       "\t<tr><td>18</td><td>201001</td><td>4323804</td><td>0</td><td>NA</td><td>0</td><td>0</td><td>Região 04 - Belas Praias               </td><td>43004</td><td>Metropolitana                 </td><td>4313</td><td>RS</td></tr>\n",
       "\t<tr><td>19</td><td>201001</td><td>4315073</td><td>0</td><td>NA</td><td>0</td><td>0</td><td>Região 14 - Fronteira Noroeste         </td><td>43014</td><td>Missioneira                   </td><td>4312</td><td>RS</td></tr>\n",
       "\t<tr><td>20</td><td>201001</td><td>4313441</td><td>0</td><td>NA</td><td>0</td><td>0</td><td>Região 15 - Caminho das Águas          </td><td>43015</td><td>Norte                         </td><td>4311</td><td>RS</td></tr>\n",
       "\t<tr><td>21</td><td>201001</td><td>4323200</td><td>0</td><td>NA</td><td>0</td><td>0</td><td>Região 17 - Planalto                   </td><td>43017</td><td>Norte                         </td><td>4311</td><td>RS</td></tr>\n",
       "\t<tr><td>22</td><td>201001</td><td>4313508</td><td>0</td><td>NA</td><td>0</td><td>0</td><td>Região 05 - Bons Ventos                </td><td>43005</td><td>Metropolitana                 </td><td>4313</td><td>RS</td></tr>\n",
       "\t<tr><td>23</td><td>201001</td><td>4307831</td><td>0</td><td>NA</td><td>0</td><td>0</td><td>Região 11 - Sete Povos das Missões     </td><td>43011</td><td>Missioneira                   </td><td>4312</td><td>RS</td></tr>\n",
       "\t<tr><td>24</td><td>201001</td><td>4316105</td><td>0</td><td>NA</td><td>0</td><td>0</td><td>Região 20 - Rota da Produção           </td><td>43020</td><td>Norte                         </td><td>4311</td><td>RS</td></tr>\n",
       "\t<tr><td>25</td><td>201001</td><td>4314100</td><td>0</td><td>NA</td><td>0</td><td>0</td><td>Região 17 - Planalto                   </td><td>43017</td><td>Norte                         </td><td>4311</td><td>RS</td></tr>\n",
       "\t<tr><td>26</td><td>201001</td><td>4314704</td><td>0</td><td>NA</td><td>0</td><td>0</td><td>Região 15 - Caminho das Águas          </td><td>43015</td><td>Norte                         </td><td>4311</td><td>RS</td></tr>\n",
       "\t<tr><td>27</td><td>201001</td><td>4323606</td><td>0</td><td>NA</td><td>0</td><td>0</td><td>Região 25 - Vinhedos e Basalto         </td><td>43025</td><td>Serra                         </td><td>4310</td><td>RS</td></tr>\n",
       "\t<tr><td>28</td><td>201001</td><td>4320321</td><td>0</td><td>NA</td><td>0</td><td>0</td><td>Região 14 - Fronteira Noroeste         </td><td>43014</td><td>Missioneira                   </td><td>4312</td><td>RS</td></tr>\n",
       "\t<tr><td>29</td><td>201001</td><td>4318465</td><td>0</td><td>NA</td><td>0</td><td>0</td><td>Região 29 - Vales e Montanhas          </td><td>43029</td><td>Vales                         </td><td>4308</td><td>RS</td></tr>\n",
       "\t<tr><td>⋮</td><td>⋮</td><td>⋮</td><td>⋮</td><td>⋮</td><td>⋮</td><td>⋮</td><td>⋮</td><td>⋮</td><td>⋮</td><td>⋮</td><td>⋮</td></tr>\n",
       "\t<tr><td>4188597</td><td>202423</td><td>1303205</td><td>0</td><td>0</td><td>0.0000000</td><td>0.000000000</td><td>Rio Negro e Solimões            </td><td>13002</td><td>Central     </td><td>1304</td><td>AM</td></tr>\n",
       "\t<tr><td>4188598</td><td>202423</td><td>1301159</td><td>0</td><td>0</td><td>0.0000000</td><td>0.000000000</td><td>Manaus, Entorno e Alto Rio Negro</td><td>13001</td><td>Central     </td><td>1304</td><td>AM</td></tr>\n",
       "\t<tr><td>4188599</td><td>202423</td><td>1301209</td><td>1</td><td>1</td><td>2.2961740</td><td>0.784881230</td><td>Rio Negro e Solimões            </td><td>13002</td><td>Central     </td><td>1304</td><td>AM</td></tr>\n",
       "\t<tr><td>4188600</td><td>202423</td><td>1301308</td><td>0</td><td>0</td><td>0.0000000</td><td>0.000000000</td><td>Rio Negro e Solimões            </td><td>13002</td><td>Central     </td><td>1304</td><td>AM</td></tr>\n",
       "\t<tr><td>4188601</td><td>202423</td><td>1303569</td><td>0</td><td>0</td><td>0.0000000</td><td>0.000000000</td><td>Manaus, Entorno e Alto Rio Negro</td><td>13001</td><td>Central     </td><td>1304</td><td>AM</td></tr>\n",
       "\t<tr><td>4188602</td><td>202423</td><td>1303007</td><td>0</td><td>0</td><td>0.0000000</td><td>0.000000000</td><td>Baixo Amazonas                  </td><td>13005</td><td>Leste       </td><td>1303</td><td>AM</td></tr>\n",
       "\t<tr><td>4188603</td><td>202423</td><td>1600055</td><td>0</td><td>0</td><td>0.0000000</td><td>0.000000000</td><td>Área Central                    </td><td>16001</td><td>Amapá       </td><td>1601</td><td>AP</td></tr>\n",
       "\t<tr><td>4188604</td><td>202423</td><td>1600212</td><td>0</td><td>0</td><td>0.0000000</td><td>0.000000000</td><td>Área Central                    </td><td>16001</td><td>Amapá       </td><td>1601</td><td>AP</td></tr>\n",
       "\t<tr><td>4188605</td><td>202423</td><td>1600238</td><td>0</td><td>0</td><td>0.0000000</td><td>0.000000000</td><td>Área Central                    </td><td>16001</td><td>Amapá       </td><td>1601</td><td>AP</td></tr>\n",
       "\t<tr><td>4188606</td><td>202423</td><td>1600303</td><td>0</td><td>0</td><td>0.4031876</td><td>0.014888135</td><td>Área Central                    </td><td>16001</td><td>Amapá       </td><td>1601</td><td>AP</td></tr>\n",
       "\t<tr><td>4188607</td><td>202423</td><td>1600402</td><td>0</td><td>0</td><td>1.9274071</td><td>0.999997900</td><td>Área Sudoeste                   </td><td>16003</td><td>Amapá       </td><td>1601</td><td>AP</td></tr>\n",
       "\t<tr><td>4188608</td><td>202423</td><td>1600535</td><td>0</td><td>0</td><td>1.0769671</td><td>0.552005230</td><td>Área Central                    </td><td>16001</td><td>Amapá       </td><td>1601</td><td>AP</td></tr>\n",
       "\t<tr><td>4188609</td><td>202423</td><td>1600600</td><td>0</td><td>0</td><td>0.2890705</td><td>0.036857730</td><td>Área Sudoeste                   </td><td>16003</td><td>Amapá       </td><td>1601</td><td>AP</td></tr>\n",
       "\t<tr><td>4188610</td><td>202423</td><td>1600808</td><td>0</td><td>0</td><td>0.0000000</td><td>0.000000000</td><td>Área Sudoeste                   </td><td>16003</td><td>Amapá       </td><td>1601</td><td>AP</td></tr>\n",
       "\t<tr><td>4188611</td><td>202423</td><td>1600154</td><td>0</td><td>0</td><td>0.0000000</td><td>0.000000000</td><td>Área Central                    </td><td>16001</td><td>Amapá       </td><td>1601</td><td>AP</td></tr>\n",
       "\t<tr><td>4188612</td><td>202423</td><td>1600105</td><td>0</td><td>0</td><td>0.0000000</td><td>0.000000000</td><td>Área Norte                      </td><td>16002</td><td>Amapá       </td><td>1601</td><td>AP</td></tr>\n",
       "\t<tr><td>4188613</td><td>202423</td><td>1600253</td><td>0</td><td>0</td><td>0.0000000</td><td>0.000000000</td><td>Área Central                    </td><td>16001</td><td>Amapá       </td><td>1601</td><td>AP</td></tr>\n",
       "\t<tr><td>4188614</td><td>202423</td><td>1600709</td><td>0</td><td>0</td><td>0.0000000</td><td>0.000000000</td><td>Área Norte                      </td><td>16002</td><td>Amapá       </td><td>1601</td><td>AP</td></tr>\n",
       "\t<tr><td>4188615</td><td>202423</td><td>1600550</td><td>0</td><td>0</td><td>0.0000000</td><td>0.000000000</td><td>Área Norte                      </td><td>16002</td><td>Amapá       </td><td>1601</td><td>AP</td></tr>\n",
       "\t<tr><td>4188616</td><td>202423</td><td>1600279</td><td>0</td><td>0</td><td>0.0000000</td><td>0.000000000</td><td>Área Sudoeste                   </td><td>16003</td><td>Amapá       </td><td>1601</td><td>AP</td></tr>\n",
       "\t<tr><td>4188617</td><td>202423</td><td>1600501</td><td>0</td><td>0</td><td>0.0000000</td><td>0.000000000</td><td>Área Norte                      </td><td>16002</td><td>Amapá       </td><td>1601</td><td>AP</td></tr>\n",
       "\t<tr><td>4188618</td><td>202423</td><td>1600204</td><td>0</td><td>0</td><td>2.6291726</td><td>0.814697400</td><td>Área Norte                      </td><td>16002</td><td>Amapá       </td><td>1601</td><td>AP</td></tr>\n",
       "\t<tr><td>4188619</td><td>202423</td><td>2930105</td><td>0</td><td>0</td><td>0.2762846</td><td>0.012132772</td><td>Senhor do Bonfim                </td><td>29024</td><td>Norte       </td><td>2913</td><td>BA</td></tr>\n",
       "\t<tr><td>4188620</td><td>202423</td><td>2932309</td><td>0</td><td>0</td><td>0.2398471</td><td>0.004871254</td><td>Itabuna                         </td><td>29012</td><td>Sul         </td><td>2910</td><td>BA</td></tr>\n",
       "\t<tr><td>4188621</td><td>202423</td><td>2907202</td><td>0</td><td>0</td><td>0.0000000</td><td>0.000000000</td><td>Juazeiro                        </td><td>29016</td><td>Norte       </td><td>2913</td><td>BA</td></tr>\n",
       "\t<tr><td>4188622</td><td>202423</td><td>2902401</td><td>0</td><td>0</td><td>2.1872268</td><td>0.986506700</td><td>Itabuna                         </td><td>29012</td><td>Sul         </td><td>2910</td><td>BA</td></tr>\n",
       "\t<tr><td>4188623</td><td>202423</td><td>2903409</td><td>0</td><td>0</td><td>0.0000000</td><td>0.000000000</td><td>Porto Seguro                    </td><td>29018</td><td>Extremo Sul </td><td>2916</td><td>BA</td></tr>\n",
       "\t<tr><td>4188624</td><td>202423</td><td>2904753</td><td>0</td><td>0</td><td>0.0000000</td><td>0.000000000</td><td>Ibotirama                       </td><td>29008</td><td>Oeste       </td><td>2912</td><td>BA</td></tr>\n",
       "\t<tr><td>4188625</td><td>202423</td><td>2906907</td><td>0</td><td>0</td><td>0.0000000</td><td>0.000000000</td><td>Teixeira de Freitas             </td><td>29026</td><td>Extremo Sul </td><td>2916</td><td>BA</td></tr>\n",
       "\t<tr><td>4188626</td><td>202423</td><td>2908903</td><td>0</td><td>0</td><td>0.0000000</td><td>0.000000000</td><td>Feira de Santana                </td><td>29006</td><td>Centro-Leste</td><td>2917</td><td>BA</td></tr>\n",
       "</tbody>\n",
       "</table>\n"
      ],
      "text/latex": [
       "A data.table: 4188627 × 12\n",
       "\\begin{tabular}{llllllllllll}\n",
       " V1 & SE & geocode & casos & casprov & Rt & p\\_rt1 & regional & regional\\_geocode & macroregional & macroregional\\_geocode & uf\\\\\n",
       " <int> & <int> & <int> & <int> & <dbl> & <dbl> & <dbl> & <chr> & <dbl> & <chr> & <dbl> & <chr>\\\\\n",
       "\\hline\n",
       "\t  0 & 201001 & 4208450 & 0 & NA & 0 & 0 & Nordeste                                & 42011 & Planalto Norte e Nordeste      & 4211 & SC\\\\\n",
       "\t  1 & 201001 & 4216206 & 0 & NA & 0 & 0 & Nordeste                                & 42011 & Planalto Norte e Nordeste      & 4211 & SC\\\\\n",
       "\t  2 & 201001 & 4218509 & 0 & NA & 0 & 0 & Meio Oeste                              & 42008 & Meio Oeste e Serra Catarinense & 4212 & SC\\\\\n",
       "\t  3 & 201001 & 4216404 & 0 & NA & 0 & 0 & Extremo Sul Catarinense                 & 42014 & Sul                            & 4210 & SC\\\\\n",
       "\t  4 & 201001 & 4201307 & 0 & NA & 0 & 0 & Nordeste                                & 42011 & Planalto Norte e Nordeste      & 4211 & SC\\\\\n",
       "\t  5 & 201001 & 4204178 & 0 & NA & 0 & 0 & Serra Catarinense                       & 42013 & Meio Oeste e Serra Catarinense & 4212 & SC\\\\\n",
       "\t  6 & 201001 & 4219358 & 0 & NA & 0 & 0 & Alto Vale do Itajaí                     & 42004 & Alto Vale do Itajaí            & 4216 & SC\\\\\n",
       "\t  7 & 201001 & 4206405 & 0 & NA & 0 & 0 & Extremo Oeste                           & 42001 & Grande Oeste                   & 4213 & SC\\\\\n",
       "\t  8 & 201001 & 4207700 & 0 & NA & 0 & 0 & Alto Uruguai Catarinense                & 42010 & Meio Oeste e Serra Catarinense & 4212 & SC\\\\\n",
       "\t  9 & 201001 & 4203907 & 0 & NA & 0 & 0 & Meio Oeste                              & 42008 & Meio Oeste e Serra Catarinense & 4212 & SC\\\\\n",
       "\t 10 & 201001 & 4205555 & 0 & NA & 0 & 0 & Alto Vale do Rio do Peixe               & 42009 & Meio Oeste e Serra Catarinense & 4212 & SC\\\\\n",
       "\t 11 & 201001 & 4215679 & 0 & NA & 0 & 0 & Alto Vale do Itajaí                     & 42004 & Alto Vale do Itajaí            & 4216 & SC\\\\\n",
       "\t 12 & 201001 & 4215109 & 0 & NA & 0 & 0 & Médio Vale do Itajaí                    & 42006 & Alto Vale do Itajaí            & 4216 & SC\\\\\n",
       "\t 13 & 201001 & 4316972 & 0 & NA & 0 & 0 & Região 03 - Fronteira Oeste             & 43003 & Centro-oeste                   & 4314 & RS\\\\\n",
       "\t 14 & 201001 & 4307203 & 0 & NA & 0 & 0 & Região 16 - Alto Uruguai Gaúcho         & 43016 & Norte                          & 4311 & RS\\\\\n",
       "\t 15 & 201001 & 4322905 & 0 & NA & 0 & 0 & Região 16 - Alto Uruguai Gaúcho         & 43016 & Norte                          & 4311 & RS\\\\\n",
       "\t 16 & 201001 & 4319901 & 0 & NA & 0 & 0 & Região 07 - Vale dos Sinos              & 43007 & Metropolitana                  & 4313 & RS\\\\\n",
       "\t 17 & 201001 & 4319356 & 0 & NA & 0 & 0 & Região 08 - Vale do Caí e Metropolitana & 43008 & Metropolitana                  & 4313 & RS\\\\\n",
       "\t 18 & 201001 & 4323804 & 0 & NA & 0 & 0 & Região 04 - Belas Praias                & 43004 & Metropolitana                  & 4313 & RS\\\\\n",
       "\t 19 & 201001 & 4315073 & 0 & NA & 0 & 0 & Região 14 - Fronteira Noroeste          & 43014 & Missioneira                    & 4312 & RS\\\\\n",
       "\t 20 & 201001 & 4313441 & 0 & NA & 0 & 0 & Região 15 - Caminho das Águas           & 43015 & Norte                          & 4311 & RS\\\\\n",
       "\t 21 & 201001 & 4323200 & 0 & NA & 0 & 0 & Região 17 - Planalto                    & 43017 & Norte                          & 4311 & RS\\\\\n",
       "\t 22 & 201001 & 4313508 & 0 & NA & 0 & 0 & Região 05 - Bons Ventos                 & 43005 & Metropolitana                  & 4313 & RS\\\\\n",
       "\t 23 & 201001 & 4307831 & 0 & NA & 0 & 0 & Região 11 - Sete Povos das Missões      & 43011 & Missioneira                    & 4312 & RS\\\\\n",
       "\t 24 & 201001 & 4316105 & 0 & NA & 0 & 0 & Região 20 - Rota da Produção            & 43020 & Norte                          & 4311 & RS\\\\\n",
       "\t 25 & 201001 & 4314100 & 0 & NA & 0 & 0 & Região 17 - Planalto                    & 43017 & Norte                          & 4311 & RS\\\\\n",
       "\t 26 & 201001 & 4314704 & 0 & NA & 0 & 0 & Região 15 - Caminho das Águas           & 43015 & Norte                          & 4311 & RS\\\\\n",
       "\t 27 & 201001 & 4323606 & 0 & NA & 0 & 0 & Região 25 - Vinhedos e Basalto          & 43025 & Serra                          & 4310 & RS\\\\\n",
       "\t 28 & 201001 & 4320321 & 0 & NA & 0 & 0 & Região 14 - Fronteira Noroeste          & 43014 & Missioneira                    & 4312 & RS\\\\\n",
       "\t 29 & 201001 & 4318465 & 0 & NA & 0 & 0 & Região 29 - Vales e Montanhas           & 43029 & Vales                          & 4308 & RS\\\\\n",
       "\t ⋮ & ⋮ & ⋮ & ⋮ & ⋮ & ⋮ & ⋮ & ⋮ & ⋮ & ⋮ & ⋮ & ⋮\\\\\n",
       "\t 4188597 & 202423 & 1303205 & 0 & 0 & 0.0000000 & 0.000000000 & Rio Negro e Solimões             & 13002 & Central      & 1304 & AM\\\\\n",
       "\t 4188598 & 202423 & 1301159 & 0 & 0 & 0.0000000 & 0.000000000 & Manaus, Entorno e Alto Rio Negro & 13001 & Central      & 1304 & AM\\\\\n",
       "\t 4188599 & 202423 & 1301209 & 1 & 1 & 2.2961740 & 0.784881230 & Rio Negro e Solimões             & 13002 & Central      & 1304 & AM\\\\\n",
       "\t 4188600 & 202423 & 1301308 & 0 & 0 & 0.0000000 & 0.000000000 & Rio Negro e Solimões             & 13002 & Central      & 1304 & AM\\\\\n",
       "\t 4188601 & 202423 & 1303569 & 0 & 0 & 0.0000000 & 0.000000000 & Manaus, Entorno e Alto Rio Negro & 13001 & Central      & 1304 & AM\\\\\n",
       "\t 4188602 & 202423 & 1303007 & 0 & 0 & 0.0000000 & 0.000000000 & Baixo Amazonas                   & 13005 & Leste        & 1303 & AM\\\\\n",
       "\t 4188603 & 202423 & 1600055 & 0 & 0 & 0.0000000 & 0.000000000 & Área Central                     & 16001 & Amapá        & 1601 & AP\\\\\n",
       "\t 4188604 & 202423 & 1600212 & 0 & 0 & 0.0000000 & 0.000000000 & Área Central                     & 16001 & Amapá        & 1601 & AP\\\\\n",
       "\t 4188605 & 202423 & 1600238 & 0 & 0 & 0.0000000 & 0.000000000 & Área Central                     & 16001 & Amapá        & 1601 & AP\\\\\n",
       "\t 4188606 & 202423 & 1600303 & 0 & 0 & 0.4031876 & 0.014888135 & Área Central                     & 16001 & Amapá        & 1601 & AP\\\\\n",
       "\t 4188607 & 202423 & 1600402 & 0 & 0 & 1.9274071 & 0.999997900 & Área Sudoeste                    & 16003 & Amapá        & 1601 & AP\\\\\n",
       "\t 4188608 & 202423 & 1600535 & 0 & 0 & 1.0769671 & 0.552005230 & Área Central                     & 16001 & Amapá        & 1601 & AP\\\\\n",
       "\t 4188609 & 202423 & 1600600 & 0 & 0 & 0.2890705 & 0.036857730 & Área Sudoeste                    & 16003 & Amapá        & 1601 & AP\\\\\n",
       "\t 4188610 & 202423 & 1600808 & 0 & 0 & 0.0000000 & 0.000000000 & Área Sudoeste                    & 16003 & Amapá        & 1601 & AP\\\\\n",
       "\t 4188611 & 202423 & 1600154 & 0 & 0 & 0.0000000 & 0.000000000 & Área Central                     & 16001 & Amapá        & 1601 & AP\\\\\n",
       "\t 4188612 & 202423 & 1600105 & 0 & 0 & 0.0000000 & 0.000000000 & Área Norte                       & 16002 & Amapá        & 1601 & AP\\\\\n",
       "\t 4188613 & 202423 & 1600253 & 0 & 0 & 0.0000000 & 0.000000000 & Área Central                     & 16001 & Amapá        & 1601 & AP\\\\\n",
       "\t 4188614 & 202423 & 1600709 & 0 & 0 & 0.0000000 & 0.000000000 & Área Norte                       & 16002 & Amapá        & 1601 & AP\\\\\n",
       "\t 4188615 & 202423 & 1600550 & 0 & 0 & 0.0000000 & 0.000000000 & Área Norte                       & 16002 & Amapá        & 1601 & AP\\\\\n",
       "\t 4188616 & 202423 & 1600279 & 0 & 0 & 0.0000000 & 0.000000000 & Área Sudoeste                    & 16003 & Amapá        & 1601 & AP\\\\\n",
       "\t 4188617 & 202423 & 1600501 & 0 & 0 & 0.0000000 & 0.000000000 & Área Norte                       & 16002 & Amapá        & 1601 & AP\\\\\n",
       "\t 4188618 & 202423 & 1600204 & 0 & 0 & 2.6291726 & 0.814697400 & Área Norte                       & 16002 & Amapá        & 1601 & AP\\\\\n",
       "\t 4188619 & 202423 & 2930105 & 0 & 0 & 0.2762846 & 0.012132772 & Senhor do Bonfim                 & 29024 & Norte        & 2913 & BA\\\\\n",
       "\t 4188620 & 202423 & 2932309 & 0 & 0 & 0.2398471 & 0.004871254 & Itabuna                          & 29012 & Sul          & 2910 & BA\\\\\n",
       "\t 4188621 & 202423 & 2907202 & 0 & 0 & 0.0000000 & 0.000000000 & Juazeiro                         & 29016 & Norte        & 2913 & BA\\\\\n",
       "\t 4188622 & 202423 & 2902401 & 0 & 0 & 2.1872268 & 0.986506700 & Itabuna                          & 29012 & Sul          & 2910 & BA\\\\\n",
       "\t 4188623 & 202423 & 2903409 & 0 & 0 & 0.0000000 & 0.000000000 & Porto Seguro                     & 29018 & Extremo Sul  & 2916 & BA\\\\\n",
       "\t 4188624 & 202423 & 2904753 & 0 & 0 & 0.0000000 & 0.000000000 & Ibotirama                        & 29008 & Oeste        & 2912 & BA\\\\\n",
       "\t 4188625 & 202423 & 2906907 & 0 & 0 & 0.0000000 & 0.000000000 & Teixeira de Freitas              & 29026 & Extremo Sul  & 2916 & BA\\\\\n",
       "\t 4188626 & 202423 & 2908903 & 0 & 0 & 0.0000000 & 0.000000000 & Feira de Santana                 & 29006 & Centro-Leste & 2917 & BA\\\\\n",
       "\\end{tabular}\n"
      ],
      "text/markdown": [
       "\n",
       "A data.table: 4188627 × 12\n",
       "\n",
       "| V1 &lt;int&gt; | SE &lt;int&gt; | geocode &lt;int&gt; | casos &lt;int&gt; | casprov &lt;dbl&gt; | Rt &lt;dbl&gt; | p_rt1 &lt;dbl&gt; | regional &lt;chr&gt; | regional_geocode &lt;dbl&gt; | macroregional &lt;chr&gt; | macroregional_geocode &lt;dbl&gt; | uf &lt;chr&gt; |\n",
       "|---|---|---|---|---|---|---|---|---|---|---|---|\n",
       "|  0 | 201001 | 4208450 | 0 | NA | 0 | 0 | Nordeste                                | 42011 | Planalto Norte e Nordeste      | 4211 | SC |\n",
       "|  1 | 201001 | 4216206 | 0 | NA | 0 | 0 | Nordeste                                | 42011 | Planalto Norte e Nordeste      | 4211 | SC |\n",
       "|  2 | 201001 | 4218509 | 0 | NA | 0 | 0 | Meio Oeste                              | 42008 | Meio Oeste e Serra Catarinense | 4212 | SC |\n",
       "|  3 | 201001 | 4216404 | 0 | NA | 0 | 0 | Extremo Sul Catarinense                 | 42014 | Sul                            | 4210 | SC |\n",
       "|  4 | 201001 | 4201307 | 0 | NA | 0 | 0 | Nordeste                                | 42011 | Planalto Norte e Nordeste      | 4211 | SC |\n",
       "|  5 | 201001 | 4204178 | 0 | NA | 0 | 0 | Serra Catarinense                       | 42013 | Meio Oeste e Serra Catarinense | 4212 | SC |\n",
       "|  6 | 201001 | 4219358 | 0 | NA | 0 | 0 | Alto Vale do Itajaí                     | 42004 | Alto Vale do Itajaí            | 4216 | SC |\n",
       "|  7 | 201001 | 4206405 | 0 | NA | 0 | 0 | Extremo Oeste                           | 42001 | Grande Oeste                   | 4213 | SC |\n",
       "|  8 | 201001 | 4207700 | 0 | NA | 0 | 0 | Alto Uruguai Catarinense                | 42010 | Meio Oeste e Serra Catarinense | 4212 | SC |\n",
       "|  9 | 201001 | 4203907 | 0 | NA | 0 | 0 | Meio Oeste                              | 42008 | Meio Oeste e Serra Catarinense | 4212 | SC |\n",
       "| 10 | 201001 | 4205555 | 0 | NA | 0 | 0 | Alto Vale do Rio do Peixe               | 42009 | Meio Oeste e Serra Catarinense | 4212 | SC |\n",
       "| 11 | 201001 | 4215679 | 0 | NA | 0 | 0 | Alto Vale do Itajaí                     | 42004 | Alto Vale do Itajaí            | 4216 | SC |\n",
       "| 12 | 201001 | 4215109 | 0 | NA | 0 | 0 | Médio Vale do Itajaí                    | 42006 | Alto Vale do Itajaí            | 4216 | SC |\n",
       "| 13 | 201001 | 4316972 | 0 | NA | 0 | 0 | Região 03 - Fronteira Oeste             | 43003 | Centro-oeste                   | 4314 | RS |\n",
       "| 14 | 201001 | 4307203 | 0 | NA | 0 | 0 | Região 16 - Alto Uruguai Gaúcho         | 43016 | Norte                          | 4311 | RS |\n",
       "| 15 | 201001 | 4322905 | 0 | NA | 0 | 0 | Região 16 - Alto Uruguai Gaúcho         | 43016 | Norte                          | 4311 | RS |\n",
       "| 16 | 201001 | 4319901 | 0 | NA | 0 | 0 | Região 07 - Vale dos Sinos              | 43007 | Metropolitana                  | 4313 | RS |\n",
       "| 17 | 201001 | 4319356 | 0 | NA | 0 | 0 | Região 08 - Vale do Caí e Metropolitana | 43008 | Metropolitana                  | 4313 | RS |\n",
       "| 18 | 201001 | 4323804 | 0 | NA | 0 | 0 | Região 04 - Belas Praias                | 43004 | Metropolitana                  | 4313 | RS |\n",
       "| 19 | 201001 | 4315073 | 0 | NA | 0 | 0 | Região 14 - Fronteira Noroeste          | 43014 | Missioneira                    | 4312 | RS |\n",
       "| 20 | 201001 | 4313441 | 0 | NA | 0 | 0 | Região 15 - Caminho das Águas           | 43015 | Norte                          | 4311 | RS |\n",
       "| 21 | 201001 | 4323200 | 0 | NA | 0 | 0 | Região 17 - Planalto                    | 43017 | Norte                          | 4311 | RS |\n",
       "| 22 | 201001 | 4313508 | 0 | NA | 0 | 0 | Região 05 - Bons Ventos                 | 43005 | Metropolitana                  | 4313 | RS |\n",
       "| 23 | 201001 | 4307831 | 0 | NA | 0 | 0 | Região 11 - Sete Povos das Missões      | 43011 | Missioneira                    | 4312 | RS |\n",
       "| 24 | 201001 | 4316105 | 0 | NA | 0 | 0 | Região 20 - Rota da Produção            | 43020 | Norte                          | 4311 | RS |\n",
       "| 25 | 201001 | 4314100 | 0 | NA | 0 | 0 | Região 17 - Planalto                    | 43017 | Norte                          | 4311 | RS |\n",
       "| 26 | 201001 | 4314704 | 0 | NA | 0 | 0 | Região 15 - Caminho das Águas           | 43015 | Norte                          | 4311 | RS |\n",
       "| 27 | 201001 | 4323606 | 0 | NA | 0 | 0 | Região 25 - Vinhedos e Basalto          | 43025 | Serra                          | 4310 | RS |\n",
       "| 28 | 201001 | 4320321 | 0 | NA | 0 | 0 | Região 14 - Fronteira Noroeste          | 43014 | Missioneira                    | 4312 | RS |\n",
       "| 29 | 201001 | 4318465 | 0 | NA | 0 | 0 | Região 29 - Vales e Montanhas           | 43029 | Vales                          | 4308 | RS |\n",
       "| ⋮ | ⋮ | ⋮ | ⋮ | ⋮ | ⋮ | ⋮ | ⋮ | ⋮ | ⋮ | ⋮ | ⋮ |\n",
       "| 4188597 | 202423 | 1303205 | 0 | 0 | 0.0000000 | 0.000000000 | Rio Negro e Solimões             | 13002 | Central      | 1304 | AM |\n",
       "| 4188598 | 202423 | 1301159 | 0 | 0 | 0.0000000 | 0.000000000 | Manaus, Entorno e Alto Rio Negro | 13001 | Central      | 1304 | AM |\n",
       "| 4188599 | 202423 | 1301209 | 1 | 1 | 2.2961740 | 0.784881230 | Rio Negro e Solimões             | 13002 | Central      | 1304 | AM |\n",
       "| 4188600 | 202423 | 1301308 | 0 | 0 | 0.0000000 | 0.000000000 | Rio Negro e Solimões             | 13002 | Central      | 1304 | AM |\n",
       "| 4188601 | 202423 | 1303569 | 0 | 0 | 0.0000000 | 0.000000000 | Manaus, Entorno e Alto Rio Negro | 13001 | Central      | 1304 | AM |\n",
       "| 4188602 | 202423 | 1303007 | 0 | 0 | 0.0000000 | 0.000000000 | Baixo Amazonas                   | 13005 | Leste        | 1303 | AM |\n",
       "| 4188603 | 202423 | 1600055 | 0 | 0 | 0.0000000 | 0.000000000 | Área Central                     | 16001 | Amapá        | 1601 | AP |\n",
       "| 4188604 | 202423 | 1600212 | 0 | 0 | 0.0000000 | 0.000000000 | Área Central                     | 16001 | Amapá        | 1601 | AP |\n",
       "| 4188605 | 202423 | 1600238 | 0 | 0 | 0.0000000 | 0.000000000 | Área Central                     | 16001 | Amapá        | 1601 | AP |\n",
       "| 4188606 | 202423 | 1600303 | 0 | 0 | 0.4031876 | 0.014888135 | Área Central                     | 16001 | Amapá        | 1601 | AP |\n",
       "| 4188607 | 202423 | 1600402 | 0 | 0 | 1.9274071 | 0.999997900 | Área Sudoeste                    | 16003 | Amapá        | 1601 | AP |\n",
       "| 4188608 | 202423 | 1600535 | 0 | 0 | 1.0769671 | 0.552005230 | Área Central                     | 16001 | Amapá        | 1601 | AP |\n",
       "| 4188609 | 202423 | 1600600 | 0 | 0 | 0.2890705 | 0.036857730 | Área Sudoeste                    | 16003 | Amapá        | 1601 | AP |\n",
       "| 4188610 | 202423 | 1600808 | 0 | 0 | 0.0000000 | 0.000000000 | Área Sudoeste                    | 16003 | Amapá        | 1601 | AP |\n",
       "| 4188611 | 202423 | 1600154 | 0 | 0 | 0.0000000 | 0.000000000 | Área Central                     | 16001 | Amapá        | 1601 | AP |\n",
       "| 4188612 | 202423 | 1600105 | 0 | 0 | 0.0000000 | 0.000000000 | Área Norte                       | 16002 | Amapá        | 1601 | AP |\n",
       "| 4188613 | 202423 | 1600253 | 0 | 0 | 0.0000000 | 0.000000000 | Área Central                     | 16001 | Amapá        | 1601 | AP |\n",
       "| 4188614 | 202423 | 1600709 | 0 | 0 | 0.0000000 | 0.000000000 | Área Norte                       | 16002 | Amapá        | 1601 | AP |\n",
       "| 4188615 | 202423 | 1600550 | 0 | 0 | 0.0000000 | 0.000000000 | Área Norte                       | 16002 | Amapá        | 1601 | AP |\n",
       "| 4188616 | 202423 | 1600279 | 0 | 0 | 0.0000000 | 0.000000000 | Área Sudoeste                    | 16003 | Amapá        | 1601 | AP |\n",
       "| 4188617 | 202423 | 1600501 | 0 | 0 | 0.0000000 | 0.000000000 | Área Norte                       | 16002 | Amapá        | 1601 | AP |\n",
       "| 4188618 | 202423 | 1600204 | 0 | 0 | 2.6291726 | 0.814697400 | Área Norte                       | 16002 | Amapá        | 1601 | AP |\n",
       "| 4188619 | 202423 | 2930105 | 0 | 0 | 0.2762846 | 0.012132772 | Senhor do Bonfim                 | 29024 | Norte        | 2913 | BA |\n",
       "| 4188620 | 202423 | 2932309 | 0 | 0 | 0.2398471 | 0.004871254 | Itabuna                          | 29012 | Sul          | 2910 | BA |\n",
       "| 4188621 | 202423 | 2907202 | 0 | 0 | 0.0000000 | 0.000000000 | Juazeiro                         | 29016 | Norte        | 2913 | BA |\n",
       "| 4188622 | 202423 | 2902401 | 0 | 0 | 2.1872268 | 0.986506700 | Itabuna                          | 29012 | Sul          | 2910 | BA |\n",
       "| 4188623 | 202423 | 2903409 | 0 | 0 | 0.0000000 | 0.000000000 | Porto Seguro                     | 29018 | Extremo Sul  | 2916 | BA |\n",
       "| 4188624 | 202423 | 2904753 | 0 | 0 | 0.0000000 | 0.000000000 | Ibotirama                        | 29008 | Oeste        | 2912 | BA |\n",
       "| 4188625 | 202423 | 2906907 | 0 | 0 | 0.0000000 | 0.000000000 | Teixeira de Freitas              | 29026 | Extremo Sul  | 2916 | BA |\n",
       "| 4188626 | 202423 | 2908903 | 0 | 0 | 0.0000000 | 0.000000000 | Feira de Santana                 | 29006 | Centro-Leste | 2917 | BA |\n",
       "\n"
      ],
      "text/plain": [
       "        V1      SE     geocode casos casprov Rt        p_rt1      \n",
       "1        0      201001 4208450 0     NA      0         0          \n",
       "2        1      201001 4216206 0     NA      0         0          \n",
       "3        2      201001 4218509 0     NA      0         0          \n",
       "4        3      201001 4216404 0     NA      0         0          \n",
       "5        4      201001 4201307 0     NA      0         0          \n",
       "6        5      201001 4204178 0     NA      0         0          \n",
       "7        6      201001 4219358 0     NA      0         0          \n",
       "8        7      201001 4206405 0     NA      0         0          \n",
       "9        8      201001 4207700 0     NA      0         0          \n",
       "10       9      201001 4203907 0     NA      0         0          \n",
       "11      10      201001 4205555 0     NA      0         0          \n",
       "12      11      201001 4215679 0     NA      0         0          \n",
       "13      12      201001 4215109 0     NA      0         0          \n",
       "14      13      201001 4316972 0     NA      0         0          \n",
       "15      14      201001 4307203 0     NA      0         0          \n",
       "16      15      201001 4322905 0     NA      0         0          \n",
       "17      16      201001 4319901 0     NA      0         0          \n",
       "18      17      201001 4319356 0     NA      0         0          \n",
       "19      18      201001 4323804 0     NA      0         0          \n",
       "20      19      201001 4315073 0     NA      0         0          \n",
       "21      20      201001 4313441 0     NA      0         0          \n",
       "22      21      201001 4323200 0     NA      0         0          \n",
       "23      22      201001 4313508 0     NA      0         0          \n",
       "24      23      201001 4307831 0     NA      0         0          \n",
       "25      24      201001 4316105 0     NA      0         0          \n",
       "26      25      201001 4314100 0     NA      0         0          \n",
       "27      26      201001 4314704 0     NA      0         0          \n",
       "28      27      201001 4323606 0     NA      0         0          \n",
       "29      28      201001 4320321 0     NA      0         0          \n",
       "30      29      201001 4318465 0     NA      0         0          \n",
       "⋮       ⋮       ⋮      ⋮       ⋮     ⋮       ⋮         ⋮          \n",
       "4188598 4188597 202423 1303205 0     0       0.0000000 0.000000000\n",
       "4188599 4188598 202423 1301159 0     0       0.0000000 0.000000000\n",
       "4188600 4188599 202423 1301209 1     1       2.2961740 0.784881230\n",
       "4188601 4188600 202423 1301308 0     0       0.0000000 0.000000000\n",
       "4188602 4188601 202423 1303569 0     0       0.0000000 0.000000000\n",
       "4188603 4188602 202423 1303007 0     0       0.0000000 0.000000000\n",
       "4188604 4188603 202423 1600055 0     0       0.0000000 0.000000000\n",
       "4188605 4188604 202423 1600212 0     0       0.0000000 0.000000000\n",
       "4188606 4188605 202423 1600238 0     0       0.0000000 0.000000000\n",
       "4188607 4188606 202423 1600303 0     0       0.4031876 0.014888135\n",
       "4188608 4188607 202423 1600402 0     0       1.9274071 0.999997900\n",
       "4188609 4188608 202423 1600535 0     0       1.0769671 0.552005230\n",
       "4188610 4188609 202423 1600600 0     0       0.2890705 0.036857730\n",
       "4188611 4188610 202423 1600808 0     0       0.0000000 0.000000000\n",
       "4188612 4188611 202423 1600154 0     0       0.0000000 0.000000000\n",
       "4188613 4188612 202423 1600105 0     0       0.0000000 0.000000000\n",
       "4188614 4188613 202423 1600253 0     0       0.0000000 0.000000000\n",
       "4188615 4188614 202423 1600709 0     0       0.0000000 0.000000000\n",
       "4188616 4188615 202423 1600550 0     0       0.0000000 0.000000000\n",
       "4188617 4188616 202423 1600279 0     0       0.0000000 0.000000000\n",
       "4188618 4188617 202423 1600501 0     0       0.0000000 0.000000000\n",
       "4188619 4188618 202423 1600204 0     0       2.6291726 0.814697400\n",
       "4188620 4188619 202423 2930105 0     0       0.2762846 0.012132772\n",
       "4188621 4188620 202423 2932309 0     0       0.2398471 0.004871254\n",
       "4188622 4188621 202423 2907202 0     0       0.0000000 0.000000000\n",
       "4188623 4188622 202423 2902401 0     0       2.1872268 0.986506700\n",
       "4188624 4188623 202423 2903409 0     0       0.0000000 0.000000000\n",
       "4188625 4188624 202423 2904753 0     0       0.0000000 0.000000000\n",
       "4188626 4188625 202423 2906907 0     0       0.0000000 0.000000000\n",
       "4188627 4188626 202423 2908903 0     0       0.0000000 0.000000000\n",
       "        regional                                regional_geocode\n",
       "1       Nordeste                                42011           \n",
       "2       Nordeste                                42011           \n",
       "3       Meio Oeste                              42008           \n",
       "4       Extremo Sul Catarinense                 42014           \n",
       "5       Nordeste                                42011           \n",
       "6       Serra Catarinense                       42013           \n",
       "7       Alto Vale do Itajaí                     42004           \n",
       "8       Extremo Oeste                           42001           \n",
       "9       Alto Uruguai Catarinense                42010           \n",
       "10      Meio Oeste                              42008           \n",
       "11      Alto Vale do Rio do Peixe               42009           \n",
       "12      Alto Vale do Itajaí                     42004           \n",
       "13      Médio Vale do Itajaí                    42006           \n",
       "14      Região 03 - Fronteira Oeste             43003           \n",
       "15      Região 16 - Alto Uruguai Gaúcho         43016           \n",
       "16      Região 16 - Alto Uruguai Gaúcho         43016           \n",
       "17      Região 07 - Vale dos Sinos              43007           \n",
       "18      Região 08 - Vale do Caí e Metropolitana 43008           \n",
       "19      Região 04 - Belas Praias                43004           \n",
       "20      Região 14 - Fronteira Noroeste          43014           \n",
       "21      Região 15 - Caminho das Águas           43015           \n",
       "22      Região 17 - Planalto                    43017           \n",
       "23      Região 05 - Bons Ventos                 43005           \n",
       "24      Região 11 - Sete Povos das Missões      43011           \n",
       "25      Região 20 - Rota da Produção            43020           \n",
       "26      Região 17 - Planalto                    43017           \n",
       "27      Região 15 - Caminho das Águas           43015           \n",
       "28      Região 25 - Vinhedos e Basalto          43025           \n",
       "29      Região 14 - Fronteira Noroeste          43014           \n",
       "30      Região 29 - Vales e Montanhas           43029           \n",
       "⋮       ⋮                                       ⋮               \n",
       "4188598 Rio Negro e Solimões                    13002           \n",
       "4188599 Manaus, Entorno e Alto Rio Negro        13001           \n",
       "4188600 Rio Negro e Solimões                    13002           \n",
       "4188601 Rio Negro e Solimões                    13002           \n",
       "4188602 Manaus, Entorno e Alto Rio Negro        13001           \n",
       "4188603 Baixo Amazonas                          13005           \n",
       "4188604 Área Central                            16001           \n",
       "4188605 Área Central                            16001           \n",
       "4188606 Área Central                            16001           \n",
       "4188607 Área Central                            16001           \n",
       "4188608 Área Sudoeste                           16003           \n",
       "4188609 Área Central                            16001           \n",
       "4188610 Área Sudoeste                           16003           \n",
       "4188611 Área Sudoeste                           16003           \n",
       "4188612 Área Central                            16001           \n",
       "4188613 Área Norte                              16002           \n",
       "4188614 Área Central                            16001           \n",
       "4188615 Área Norte                              16002           \n",
       "4188616 Área Norte                              16002           \n",
       "4188617 Área Sudoeste                           16003           \n",
       "4188618 Área Norte                              16002           \n",
       "4188619 Área Norte                              16002           \n",
       "4188620 Senhor do Bonfim                        29024           \n",
       "4188621 Itabuna                                 29012           \n",
       "4188622 Juazeiro                                29016           \n",
       "4188623 Itabuna                                 29012           \n",
       "4188624 Porto Seguro                            29018           \n",
       "4188625 Ibotirama                               29008           \n",
       "4188626 Teixeira de Freitas                     29026           \n",
       "4188627 Feira de Santana                        29006           \n",
       "        macroregional                  macroregional_geocode uf\n",
       "1       Planalto Norte e Nordeste      4211                  SC\n",
       "2       Planalto Norte e Nordeste      4211                  SC\n",
       "3       Meio Oeste e Serra Catarinense 4212                  SC\n",
       "4       Sul                            4210                  SC\n",
       "5       Planalto Norte e Nordeste      4211                  SC\n",
       "6       Meio Oeste e Serra Catarinense 4212                  SC\n",
       "7       Alto Vale do Itajaí            4216                  SC\n",
       "8       Grande Oeste                   4213                  SC\n",
       "9       Meio Oeste e Serra Catarinense 4212                  SC\n",
       "10      Meio Oeste e Serra Catarinense 4212                  SC\n",
       "11      Meio Oeste e Serra Catarinense 4212                  SC\n",
       "12      Alto Vale do Itajaí            4216                  SC\n",
       "13      Alto Vale do Itajaí            4216                  SC\n",
       "14      Centro-oeste                   4314                  RS\n",
       "15      Norte                          4311                  RS\n",
       "16      Norte                          4311                  RS\n",
       "17      Metropolitana                  4313                  RS\n",
       "18      Metropolitana                  4313                  RS\n",
       "19      Metropolitana                  4313                  RS\n",
       "20      Missioneira                    4312                  RS\n",
       "21      Norte                          4311                  RS\n",
       "22      Norte                          4311                  RS\n",
       "23      Metropolitana                  4313                  RS\n",
       "24      Missioneira                    4312                  RS\n",
       "25      Norte                          4311                  RS\n",
       "26      Norte                          4311                  RS\n",
       "27      Norte                          4311                  RS\n",
       "28      Serra                          4310                  RS\n",
       "29      Missioneira                    4312                  RS\n",
       "30      Vales                          4308                  RS\n",
       "⋮       ⋮                              ⋮                     ⋮ \n",
       "4188598 Central                        1304                  AM\n",
       "4188599 Central                        1304                  AM\n",
       "4188600 Central                        1304                  AM\n",
       "4188601 Central                        1304                  AM\n",
       "4188602 Central                        1304                  AM\n",
       "4188603 Leste                          1303                  AM\n",
       "4188604 Amapá                          1601                  AP\n",
       "4188605 Amapá                          1601                  AP\n",
       "4188606 Amapá                          1601                  AP\n",
       "4188607 Amapá                          1601                  AP\n",
       "4188608 Amapá                          1601                  AP\n",
       "4188609 Amapá                          1601                  AP\n",
       "4188610 Amapá                          1601                  AP\n",
       "4188611 Amapá                          1601                  AP\n",
       "4188612 Amapá                          1601                  AP\n",
       "4188613 Amapá                          1601                  AP\n",
       "4188614 Amapá                          1601                  AP\n",
       "4188615 Amapá                          1601                  AP\n",
       "4188616 Amapá                          1601                  AP\n",
       "4188617 Amapá                          1601                  AP\n",
       "4188618 Amapá                          1601                  AP\n",
       "4188619 Amapá                          1601                  AP\n",
       "4188620 Norte                          2913                  BA\n",
       "4188621 Sul                            2910                  BA\n",
       "4188622 Norte                          2913                  BA\n",
       "4188623 Sul                            2910                  BA\n",
       "4188624 Extremo Sul                    2916                  BA\n",
       "4188625 Oeste                          2912                  BA\n",
       "4188626 Extremo Sul                    2916                  BA\n",
       "4188627 Centro-Leste                   2917                  BA"
      ]
     },
     "metadata": {},
     "output_type": "display_data"
    }
   ],
   "source": [
    "data = fread(\"infodengue.csv.gz\")\n",
    "data"
   ]
  },
  {
   "cell_type": "markdown",
   "id": "22a65b2d-e137-42cf-93e6-39831d6ac919",
   "metadata": {},
   "source": [
    "## Creating a simple Forecast model"
   ]
  },
  {
   "cell_type": "code",
   "execution_count": 23,
   "id": "ffb384ed-e8d1-4d35-8418-d3c17d56e9f2",
   "metadata": {
    "execution": {
     "iopub.execute_input": "2024-06-18T17:12:54.274115Z",
     "iopub.status.busy": "2024-06-18T17:12:54.273501Z",
     "iopub.status.idle": "2024-06-18T17:12:54.956746Z",
     "shell.execute_reply": "2024-06-18T17:12:54.956118Z"
    }
   },
   "outputs": [
    {
     "name": "stderr",
     "output_type": "stream",
     "text": [
      "Registered S3 method overwritten by 'quantmod':\n",
      "  method            from\n",
      "  as.zoo.data.frame zoo \n",
      "\n",
      "── \u001b[1mAttaching core tidyverse packages\u001b[22m ───────────────────────────────────────────────────────────────────────────────────────────────────────────────────────────────────────────────────────────────────── tidyverse 2.0.0 ──\n",
      "\u001b[32m✔\u001b[39m \u001b[34mdplyr    \u001b[39m 1.1.4     \u001b[32m✔\u001b[39m \u001b[34mreadr    \u001b[39m 2.1.5\n",
      "\u001b[32m✔\u001b[39m \u001b[34mforcats  \u001b[39m 1.0.0     \u001b[32m✔\u001b[39m \u001b[34mstringr  \u001b[39m 1.5.1\n",
      "\u001b[32m✔\u001b[39m \u001b[34mggplot2  \u001b[39m 3.4.4     \u001b[32m✔\u001b[39m \u001b[34mtibble   \u001b[39m 3.2.1\n",
      "\u001b[32m✔\u001b[39m \u001b[34mlubridate\u001b[39m 1.9.3     \u001b[32m✔\u001b[39m \u001b[34mtidyr    \u001b[39m 1.3.1\n",
      "\u001b[32m✔\u001b[39m \u001b[34mpurrr    \u001b[39m 1.0.2     \n",
      "── \u001b[1mConflicts\u001b[22m ─────────────────────────────────────────────────────────────────────────────────────────────────────────────────────────────────────────────────────────────────────────────────────── tidyverse_conflicts() ──\n",
      "\u001b[31m✖\u001b[39m \u001b[34mdplyr\u001b[39m::\u001b[32mbetween()\u001b[39m     masks \u001b[34mdata.table\u001b[39m::between()\n",
      "\u001b[31m✖\u001b[39m \u001b[34mdplyr\u001b[39m::\u001b[32mfilter()\u001b[39m      masks \u001b[34mstats\u001b[39m::filter()\n",
      "\u001b[31m✖\u001b[39m \u001b[34mdplyr\u001b[39m::\u001b[32mfirst()\u001b[39m       masks \u001b[34mdata.table\u001b[39m::first()\n",
      "\u001b[31m✖\u001b[39m \u001b[34mlubridate\u001b[39m::\u001b[32mhour()\u001b[39m    masks \u001b[34mdata.table\u001b[39m::hour()\n",
      "\u001b[31m✖\u001b[39m \u001b[34mlubridate\u001b[39m::\u001b[32misoweek()\u001b[39m masks \u001b[34mdata.table\u001b[39m::isoweek()\n",
      "\u001b[31m✖\u001b[39m \u001b[34mdplyr\u001b[39m::\u001b[32mlag()\u001b[39m         masks \u001b[34mstats\u001b[39m::lag()\n",
      "\u001b[31m✖\u001b[39m \u001b[34mdplyr\u001b[39m::\u001b[32mlast()\u001b[39m        masks \u001b[34mdata.table\u001b[39m::last()\n",
      "\u001b[31m✖\u001b[39m \u001b[34mlubridate\u001b[39m::\u001b[32mmday()\u001b[39m    masks \u001b[34mdata.table\u001b[39m::mday()\n",
      "\u001b[31m✖\u001b[39m \u001b[34mlubridate\u001b[39m::\u001b[32mminute()\u001b[39m  masks \u001b[34mdata.table\u001b[39m::minute()\n",
      "\u001b[31m✖\u001b[39m \u001b[34mlubridate\u001b[39m::\u001b[32mmonth()\u001b[39m   masks \u001b[34mdata.table\u001b[39m::month()\n",
      "\u001b[31m✖\u001b[39m \u001b[34mlubridate\u001b[39m::\u001b[32mquarter()\u001b[39m masks \u001b[34mdata.table\u001b[39m::quarter()\n",
      "\u001b[31m✖\u001b[39m \u001b[34mlubridate\u001b[39m::\u001b[32msecond()\u001b[39m  masks \u001b[34mdata.table\u001b[39m::second()\n",
      "\u001b[31m✖\u001b[39m \u001b[34mpurrr\u001b[39m::\u001b[32mtranspose()\u001b[39m   masks \u001b[34mdata.table\u001b[39m::transpose()\n",
      "\u001b[31m✖\u001b[39m \u001b[34mlubridate\u001b[39m::\u001b[32mwday()\u001b[39m    masks \u001b[34mdata.table\u001b[39m::wday()\n",
      "\u001b[31m✖\u001b[39m \u001b[34mlubridate\u001b[39m::\u001b[32mweek()\u001b[39m    masks \u001b[34mdata.table\u001b[39m::week()\n",
      "\u001b[31m✖\u001b[39m \u001b[34mlubridate\u001b[39m::\u001b[32myday()\u001b[39m    masks \u001b[34mdata.table\u001b[39m::yday()\n",
      "\u001b[31m✖\u001b[39m \u001b[34mlubridate\u001b[39m::\u001b[32myear()\u001b[39m    masks \u001b[34mdata.table\u001b[39m::year()\n",
      "\u001b[36mℹ\u001b[39m Use the conflicted package (\u001b[3m\u001b[34m<http://conflicted.r-lib.org/>\u001b[39m\u001b[23m) to force all conflicts to become errors\n"
     ]
    }
   ],
   "source": [
    "library(forecast)\n",
    "library(tidyverse)"
   ]
  },
  {
   "cell_type": "code",
   "execution_count": null,
   "id": "3a2442d2-8c1f-49a0-82cc-f9594517c57a",
   "metadata": {},
   "outputs": [],
   "source": []
  }
 ],
 "metadata": {
  "kernelspec": {
   "display_name": "R",
   "language": "R",
   "name": "ir"
  },
  "language_info": {
   "codemirror_mode": "r",
   "file_extension": ".r",
   "mimetype": "text/x-r-source",
   "name": "R",
   "pygments_lexer": "r",
   "version": "4.3.3"
  }
 },
 "nbformat": 4,
 "nbformat_minor": 5
}
